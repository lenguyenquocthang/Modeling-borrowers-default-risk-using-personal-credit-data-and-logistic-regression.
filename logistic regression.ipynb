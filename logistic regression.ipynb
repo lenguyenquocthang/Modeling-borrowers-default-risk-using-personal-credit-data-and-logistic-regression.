{
  "cells": [
    {
      "cell_type": "markdown",
      "metadata": {
        "id": "qk_D1XNjmM6v"
      },
      "source": [
        "# **Chapter 1: Overview**"
      ]
    },
    {
      "cell_type": "markdown",
      "metadata": {
        "id": "9CHQfvY_nFEs"
      },
      "source": [
        "## **1.1. Problem Statement**"
      ]
    },
    {
      "cell_type": "markdown",
      "metadata": {
        "id": "5r-7oBRyxh8l"
      },
      "source": [
        "In the context of a rapidly developing economy, particularly in the unsecured lending market, credit risk assessment has become a critical factor for lending institutions. One of the core indicators reflecting both the effectiveness and the risk level of lending activities is the loan repayment status, which indicates whether a loan has defaulted. Accurate prediction of default risk not only enables financial institutions to improve risk management, but also contributes to more efficient credit allocation, prevents the spread of non-performing loans, and enhances the overall quality of loan portfolios."
      ]
    },
    {
      "cell_type": "markdown",
      "metadata": {
        "id": "ftVSWX5B0b5S"
      },
      "source": [
        "## **1.2. Research Objectives**"
      ]
    },
    {
      "cell_type": "markdown",
      "metadata": {
        "id": "Chfm0jxI0o15"
      },
      "source": [
        "### **1.2.1. General Objective**"
      ]
    },
    {
      "cell_type": "markdown",
      "metadata": {
        "id": "CwI0Lsdm0yGG"
      },
      "source": [
        "To analyze the factors affecting borrowers’ default risk based on personal credit data, and to develop a default probability prediction model using logistic regression."
      ]
    },
    {
      "cell_type": "markdown",
      "metadata": {
        "id": "sceVjqqe0zEn"
      },
      "source": [
        "### **1.2.2.  Specific Objectives**"
      ]
    },
    {
      "cell_type": "markdown",
      "metadata": {
        "id": "XUFqRN4N0-Eq"
      },
      "source": [
        "- Examine the relationships among variables in the dataset.\n",
        "\n",
        "- Analyze the degree (strong/weak, positive/negative) of influence on default risk.\n",
        "\n",
        "- Estimate the probability of default and analyze it through the logistic regression method."
      ]
    },
    {
      "cell_type": "markdown",
      "metadata": {
        "id": "FBKQn35q1fJc"
      },
      "source": [
        "## **1.3. Research Methodology**"
      ]
    },
    {
      "cell_type": "markdown",
      "metadata": {
        "id": "5ZlRJzZY1xP1"
      },
      "source": [
        "The study employs logistic regression to analyze the dataset with the objective of determining the probability of default based on influencing factors. In addition, it applies descriptive statistics, statistical significance testing, and evaluates the magnitude of the impact of each factor on default risk."
      ]
    },
    {
      "cell_type": "markdown",
      "metadata": {
        "id": "9YKKNW-x2b0c"
      },
      "source": [
        "# **Chapter 2: Dataset Overview**"
      ]
    },
    {
      "cell_type": "markdown",
      "metadata": {
        "id": "KeBOSYFT3sfG"
      },
      "source": [
        "## **2.1. General Introduction**"
      ]
    },
    {
      "cell_type": "markdown",
      "metadata": {
        "id": "wkJVpK4r4UyN"
      },
      "source": [
        "The Credit Risk Dataset contains information on 32,581 loan applicants, including demographic characteristics, financial status, credit history, and especially the loan outcome (on-time repayment or default)."
      ]
    },
    {
      "cell_type": "markdown",
      "metadata": {
        "id": "8Fee36wY4Hnf"
      },
      "source": [
        "## **2.2. Data Description**"
      ]
    },
    {
      "cell_type": "markdown",
      "metadata": {
        "id": "5ZB7LdKz4Rn1"
      },
      "source": [
        "Detailed description of dataset features:\n",
        "- **person_age**: Age of the borrower.\n",
        "- **person_income**: Annual income.\n",
        "- **person_home_ownership**: Borrower’s home ownership status:\n",
        " - **RENT**: Currently renting.\n",
        " - **OWN**: Owns a home outright, without a mortgage.\n",
        " - **MORTGAGE**: Owns a home with a mortgage.\n",
        "- **person_emp_length**: Number of years of employment (work experience).\n",
        "- **loan_intent**: Purpose of the loan:\n",
        " - **PERSONAL**: Personal use.\n",
        " - **EDUCATION**: Education expenses.\n",
        " - **MEDICAL**: Medical or healthcare-related expenses.\n",
        " - **VENTURE**: Investment in a business project.\n",
        " - **HOMEIMPROVEMENT**: Home renovation or improvement.\n",
        " - **DEBTCONSOLIDATION**: Consolidation of multiple debts into a single loan.\n",
        "- **loan_grade**: Loan grade based on assessed risk:\n",
        " - **A**: Highest credit quality, lowest risk..\n",
        " - **B**: Above-average credit quality, relatively low risk.\n",
        " - **C**: Average credit quality, moderate risk.\n",
        " - **D**: Below-average credit quality, higher risk.\n",
        " - **E**: Low credit quality, very high risk.\n",
        " - **F**: Very low credit quality, extremely high risk.\n",
        " - **G**: Lowest credit quality, highest risk.\n",
        "- **loan_amnt**: Loan amount requested.\n",
        "- **loan_int_rate**: Loan interest rate.\n",
        "- **loan_status**: Indicates whether the loan defaulted: '1' = default, '0' = no default.\n",
        "- **loan_percent_income**: Ratio of loan amount to borrower’s income.\n",
        "- **cb_person_default_on_file**: Indicates if the borrower has a history of default:\n",
        " - **Y**: Has a history of default.\n",
        " - **N**: No history of default.\n",
        "- **cb_person_cred_hist_length**: Length of borrower’s credit history (in years)."
      ]
    },
    {
      "cell_type": "markdown",
      "metadata": {
        "id": "NgLzqpgF4TFc"
      },
      "source": [
        "## **2.3. Data Cleaning and Preprocessing**"
      ]
    },
    {
      "cell_type": "markdown",
      "metadata": {
        "id": "erZKoPGc4jqM"
      },
      "source": [
        "### **2.3.1. Installing Libraries and Reading Data**"
      ]
    },
    {
      "cell_type": "code",
      "execution_count": 28,
      "metadata": {
        "colab": {
          "base_uri": "https://localhost:8080/",
          "height": 226
        },
        "id": "vf9gNDf1OrTa",
        "outputId": "b7841c3f-e368-485b-c590-f838b5debb97"
      },
      "outputs": [
        {
          "name": "stdout",
          "output_type": "stream",
          "text": [
            "Requirement already satisfied: pandas in c:\\users\\admin\\appdata\\local\\packages\\pythonsoftwarefoundation.python.3.11_qbz5n2kfra8p0\\localcache\\local-packages\\python311\\site-packages (2.3.1)\n",
            "Requirement already satisfied: numpy in c:\\users\\admin\\appdata\\local\\packages\\pythonsoftwarefoundation.python.3.11_qbz5n2kfra8p0\\localcache\\local-packages\\python311\\site-packages (2.3.2)\n",
            "Requirement already satisfied: matplotlib in c:\\users\\admin\\appdata\\local\\packages\\pythonsoftwarefoundation.python.3.11_qbz5n2kfra8p0\\localcache\\local-packages\\python311\\site-packages (3.10.5)\n",
            "Requirement already satisfied: seaborn in c:\\users\\admin\\appdata\\local\\packages\\pythonsoftwarefoundation.python.3.11_qbz5n2kfra8p0\\localcache\\local-packages\\python311\\site-packages (0.13.2)\n",
            "Requirement already satisfied: scikit-learn in c:\\users\\admin\\appdata\\local\\packages\\pythonsoftwarefoundation.python.3.11_qbz5n2kfra8p0\\localcache\\local-packages\\python311\\site-packages (1.7.1)\n",
            "Requirement already satisfied: python-dateutil>=2.8.2 in c:\\users\\admin\\appdata\\local\\packages\\pythonsoftwarefoundation.python.3.11_qbz5n2kfra8p0\\localcache\\local-packages\\python311\\site-packages (from pandas) (2.9.0.post0)\n",
            "Requirement already satisfied: pytz>=2020.1 in c:\\users\\admin\\appdata\\local\\packages\\pythonsoftwarefoundation.python.3.11_qbz5n2kfra8p0\\localcache\\local-packages\\python311\\site-packages (from pandas) (2025.2)\n",
            "Requirement already satisfied: tzdata>=2022.7 in c:\\users\\admin\\appdata\\local\\packages\\pythonsoftwarefoundation.python.3.11_qbz5n2kfra8p0\\localcache\\local-packages\\python311\\site-packages (from pandas) (2025.2)\n",
            "Requirement already satisfied: contourpy>=1.0.1 in c:\\users\\admin\\appdata\\local\\packages\\pythonsoftwarefoundation.python.3.11_qbz5n2kfra8p0\\localcache\\local-packages\\python311\\site-packages (from matplotlib) (1.3.3)\n",
            "Requirement already satisfied: cycler>=0.10 in c:\\users\\admin\\appdata\\local\\packages\\pythonsoftwarefoundation.python.3.11_qbz5n2kfra8p0\\localcache\\local-packages\\python311\\site-packages (from matplotlib) (0.12.1)\n",
            "Requirement already satisfied: fonttools>=4.22.0 in c:\\users\\admin\\appdata\\local\\packages\\pythonsoftwarefoundation.python.3.11_qbz5n2kfra8p0\\localcache\\local-packages\\python311\\site-packages (from matplotlib) (4.59.0)\n",
            "Requirement already satisfied: kiwisolver>=1.3.1 in c:\\users\\admin\\appdata\\local\\packages\\pythonsoftwarefoundation.python.3.11_qbz5n2kfra8p0\\localcache\\local-packages\\python311\\site-packages (from matplotlib) (1.4.9)\n",
            "Requirement already satisfied: packaging>=20.0 in c:\\users\\admin\\appdata\\local\\packages\\pythonsoftwarefoundation.python.3.11_qbz5n2kfra8p0\\localcache\\local-packages\\python311\\site-packages (from matplotlib) (25.0)\n",
            "Requirement already satisfied: pillow>=8 in c:\\users\\admin\\appdata\\local\\packages\\pythonsoftwarefoundation.python.3.11_qbz5n2kfra8p0\\localcache\\local-packages\\python311\\site-packages (from matplotlib) (11.3.0)\n",
            "Requirement already satisfied: pyparsing>=2.3.1 in c:\\users\\admin\\appdata\\local\\packages\\pythonsoftwarefoundation.python.3.11_qbz5n2kfra8p0\\localcache\\local-packages\\python311\\site-packages (from matplotlib) (3.2.3)\n",
            "Requirement already satisfied: scipy>=1.8.0 in c:\\users\\admin\\appdata\\local\\packages\\pythonsoftwarefoundation.python.3.11_qbz5n2kfra8p0\\localcache\\local-packages\\python311\\site-packages (from scikit-learn) (1.16.1)\n",
            "Requirement already satisfied: joblib>=1.2.0 in c:\\users\\admin\\appdata\\local\\packages\\pythonsoftwarefoundation.python.3.11_qbz5n2kfra8p0\\localcache\\local-packages\\python311\\site-packages (from scikit-learn) (1.5.1)\n",
            "Requirement already satisfied: threadpoolctl>=3.1.0 in c:\\users\\admin\\appdata\\local\\packages\\pythonsoftwarefoundation.python.3.11_qbz5n2kfra8p0\\localcache\\local-packages\\python311\\site-packages (from scikit-learn) (3.6.0)\n",
            "Requirement already satisfied: six>=1.5 in c:\\users\\admin\\appdata\\local\\packages\\pythonsoftwarefoundation.python.3.11_qbz5n2kfra8p0\\localcache\\local-packages\\python311\\site-packages (from python-dateutil>=2.8.2->pandas) (1.17.0)\n"
          ]
        },
        {
          "name": "stderr",
          "output_type": "stream",
          "text": [
            "\n",
            "[notice] A new release of pip is available: 24.0 -> 25.2\n",
            "[notice] To update, run: C:\\Users\\ADMIN\\AppData\\Local\\Microsoft\\WindowsApps\\PythonSoftwareFoundation.Python.3.11_qbz5n2kfra8p0\\python.exe -m pip install --upgrade pip\n"
          ]
        }
      ],
      "source": [
        "!pip install pandas numpy matplotlib seaborn scikit-learn"
      ]
    },
    {
      "cell_type": "code",
      "execution_count": null,
      "metadata": {},
      "outputs": [
        {
          "data": {
            "text/html": [
              "<div>\n",
              "<style scoped>\n",
              "    .dataframe tbody tr th:only-of-type {\n",
              "        vertical-align: middle;\n",
              "    }\n",
              "\n",
              "    .dataframe tbody tr th {\n",
              "        vertical-align: top;\n",
              "    }\n",
              "\n",
              "    .dataframe thead th {\n",
              "        text-align: right;\n",
              "    }\n",
              "</style>\n",
              "<table border=\"1\" class=\"dataframe\">\n",
              "  <thead>\n",
              "    <tr style=\"text-align: right;\">\n",
              "      <th></th>\n",
              "      <th>person_age</th>\n",
              "      <th>person_income</th>\n",
              "      <th>person_home_ownership</th>\n",
              "      <th>person_emp_length</th>\n",
              "      <th>loan_intent</th>\n",
              "      <th>loan_grade</th>\n",
              "      <th>loan_amnt</th>\n",
              "      <th>loan_int_rate</th>\n",
              "      <th>loan_status</th>\n",
              "      <th>loan_percent_income</th>\n",
              "      <th>cb_person_default_on_file</th>\n",
              "      <th>cb_person_cred_hist_length</th>\n",
              "    </tr>\n",
              "  </thead>\n",
              "  <tbody>\n",
              "    <tr>\n",
              "      <th>0</th>\n",
              "      <td>22</td>\n",
              "      <td>59000</td>\n",
              "      <td>RENT</td>\n",
              "      <td>123.0</td>\n",
              "      <td>PERSONAL</td>\n",
              "      <td>D</td>\n",
              "      <td>35000</td>\n",
              "      <td>16.02</td>\n",
              "      <td>1</td>\n",
              "      <td>0.59</td>\n",
              "      <td>Y</td>\n",
              "      <td>3</td>\n",
              "    </tr>\n",
              "    <tr>\n",
              "      <th>1</th>\n",
              "      <td>21</td>\n",
              "      <td>9600</td>\n",
              "      <td>OWN</td>\n",
              "      <td>5.0</td>\n",
              "      <td>EDUCATION</td>\n",
              "      <td>B</td>\n",
              "      <td>1000</td>\n",
              "      <td>11.14</td>\n",
              "      <td>0</td>\n",
              "      <td>0.10</td>\n",
              "      <td>N</td>\n",
              "      <td>2</td>\n",
              "    </tr>\n",
              "    <tr>\n",
              "      <th>2</th>\n",
              "      <td>25</td>\n",
              "      <td>9600</td>\n",
              "      <td>MORTGAGE</td>\n",
              "      <td>1.0</td>\n",
              "      <td>MEDICAL</td>\n",
              "      <td>C</td>\n",
              "      <td>5500</td>\n",
              "      <td>12.87</td>\n",
              "      <td>1</td>\n",
              "      <td>0.57</td>\n",
              "      <td>N</td>\n",
              "      <td>3</td>\n",
              "    </tr>\n",
              "    <tr>\n",
              "      <th>3</th>\n",
              "      <td>23</td>\n",
              "      <td>65500</td>\n",
              "      <td>RENT</td>\n",
              "      <td>4.0</td>\n",
              "      <td>MEDICAL</td>\n",
              "      <td>C</td>\n",
              "      <td>35000</td>\n",
              "      <td>15.23</td>\n",
              "      <td>1</td>\n",
              "      <td>0.53</td>\n",
              "      <td>N</td>\n",
              "      <td>2</td>\n",
              "    </tr>\n",
              "    <tr>\n",
              "      <th>4</th>\n",
              "      <td>24</td>\n",
              "      <td>54400</td>\n",
              "      <td>RENT</td>\n",
              "      <td>8.0</td>\n",
              "      <td>MEDICAL</td>\n",
              "      <td>C</td>\n",
              "      <td>35000</td>\n",
              "      <td>14.27</td>\n",
              "      <td>1</td>\n",
              "      <td>0.55</td>\n",
              "      <td>Y</td>\n",
              "      <td>4</td>\n",
              "    </tr>\n",
              "  </tbody>\n",
              "</table>\n",
              "</div>"
            ],
            "text/plain": [
              "   person_age  person_income person_home_ownership  person_emp_length  \\\n",
              "0          22          59000                  RENT              123.0   \n",
              "1          21           9600                   OWN                5.0   \n",
              "2          25           9600              MORTGAGE                1.0   \n",
              "3          23          65500                  RENT                4.0   \n",
              "4          24          54400                  RENT                8.0   \n",
              "\n",
              "  loan_intent loan_grade  loan_amnt  loan_int_rate  loan_status  \\\n",
              "0    PERSONAL          D      35000          16.02            1   \n",
              "1   EDUCATION          B       1000          11.14            0   \n",
              "2     MEDICAL          C       5500          12.87            1   \n",
              "3     MEDICAL          C      35000          15.23            1   \n",
              "4     MEDICAL          C      35000          14.27            1   \n",
              "\n",
              "   loan_percent_income cb_person_default_on_file  cb_person_cred_hist_length  \n",
              "0                 0.59                         Y                           3  \n",
              "1                 0.10                         N                           2  \n",
              "2                 0.57                         N                           3  \n",
              "3                 0.53                         N                           2  \n",
              "4                 0.55                         Y                           4  "
            ]
          },
          "execution_count": 29,
          "metadata": {},
          "output_type": "execute_result"
        }
      ],
      "source": [
        "# Installing Libraries\n",
        "import pandas as pd\n",
        "import numpy as np\n",
        "import matplotlib.pyplot as plt\n",
        "import seaborn as sns\n",
        "from sklearn.model_selection import train_test_split\n",
        "from sklearn.linear_model import LogisticRegression\n",
        "from sklearn import metrics\n",
        "from sklearn.metrics import classification_report, confusion_matrix\n",
        "# Reading Data\n",
        "data = pd.read_csv(\"D:\\My Data\\credit_risk_dataset.csv\")\n",
        "# Display Data\n",
        "data.head()"
      ]
    },
    {
      "cell_type": "markdown",
      "metadata": {
        "id": "sTSIJjasFHVW"
      },
      "source": [
        "### **2.3.2. Data Cleaning and Preprocessing**"
      ]
    },
    {
      "cell_type": "code",
      "execution_count": null,
      "metadata": {
        "colab": {
          "base_uri": "https://localhost:8080/"
        },
        "id": "dp3nA2fp3XY6",
        "outputId": "05ca5f9e-cc10-4450-ad6e-73fc83ee4ac1"
      },
      "outputs": [
        {
          "name": "stdout",
          "output_type": "stream",
          "text": [
            "<class 'pandas.core.frame.DataFrame'>\n",
            "RangeIndex: 32581 entries, 0 to 32580\n",
            "Data columns (total 12 columns):\n",
            " #   Column                      Non-Null Count  Dtype  \n",
            "---  ------                      --------------  -----  \n",
            " 0   person_age                  32581 non-null  int64  \n",
            " 1   person_income               32581 non-null  int64  \n",
            " 2   person_home_ownership       32581 non-null  object \n",
            " 3   person_emp_length           31686 non-null  float64\n",
            " 4   loan_intent                 32581 non-null  object \n",
            " 5   loan_grade                  32581 non-null  object \n",
            " 6   loan_amnt                   32581 non-null  int64  \n",
            " 7   loan_int_rate               29465 non-null  float64\n",
            " 8   loan_status                 32581 non-null  int64  \n",
            " 9   loan_percent_income         32581 non-null  float64\n",
            " 10  cb_person_default_on_file   32581 non-null  object \n",
            " 11  cb_person_cred_hist_length  32581 non-null  int64  \n",
            "dtypes: float64(3), int64(5), object(4)\n",
            "memory usage: 3.0+ MB\n"
          ]
        }
      ],
      "source": [
        "# Dataset Structure\n",
        "data.info()"
      ]
    },
    {
      "cell_type": "markdown",
      "metadata": {
        "id": "yx6hxPf71IT0"
      },
      "source": [
        "The dataset variables are standardized in the following formats:\n",
        "- int64: integer values (5 variables)\n",
        "- float64: floating-point values (3 variables)\n",
        "- object: string/text values (4 variables)"
      ]
    },
    {
      "cell_type": "code",
      "execution_count": null,
      "metadata": {
        "colab": {
          "base_uri": "https://localhost:8080/",
          "height": 320
        },
        "id": "Ut0Dhi_Y2T-M",
        "outputId": "ad5fafc0-b912-4f87-ded9-09083b6e1118"
      },
      "outputs": [
        {
          "data": {
            "text/html": [
              "<div>\n",
              "<style scoped>\n",
              "    .dataframe tbody tr th:only-of-type {\n",
              "        vertical-align: middle;\n",
              "    }\n",
              "\n",
              "    .dataframe tbody tr th {\n",
              "        vertical-align: top;\n",
              "    }\n",
              "\n",
              "    .dataframe thead th {\n",
              "        text-align: right;\n",
              "    }\n",
              "</style>\n",
              "<table border=\"1\" class=\"dataframe\">\n",
              "  <thead>\n",
              "    <tr style=\"text-align: right;\">\n",
              "      <th></th>\n",
              "      <th>person_age</th>\n",
              "      <th>person_income</th>\n",
              "      <th>person_emp_length</th>\n",
              "      <th>loan_amnt</th>\n",
              "      <th>loan_int_rate</th>\n",
              "      <th>loan_status</th>\n",
              "      <th>loan_percent_income</th>\n",
              "      <th>cb_person_cred_hist_length</th>\n",
              "    </tr>\n",
              "  </thead>\n",
              "  <tbody>\n",
              "    <tr>\n",
              "      <th>count</th>\n",
              "      <td>32581.000000</td>\n",
              "      <td>3.258100e+04</td>\n",
              "      <td>31686.000000</td>\n",
              "      <td>32581.000000</td>\n",
              "      <td>29465.000000</td>\n",
              "      <td>32581.000000</td>\n",
              "      <td>32581.000000</td>\n",
              "      <td>32581.000000</td>\n",
              "    </tr>\n",
              "    <tr>\n",
              "      <th>mean</th>\n",
              "      <td>27.734600</td>\n",
              "      <td>6.607485e+04</td>\n",
              "      <td>4.789686</td>\n",
              "      <td>9589.371106</td>\n",
              "      <td>11.011695</td>\n",
              "      <td>0.218164</td>\n",
              "      <td>0.170203</td>\n",
              "      <td>5.804211</td>\n",
              "    </tr>\n",
              "    <tr>\n",
              "      <th>std</th>\n",
              "      <td>6.348078</td>\n",
              "      <td>6.198312e+04</td>\n",
              "      <td>4.142630</td>\n",
              "      <td>6322.086646</td>\n",
              "      <td>3.240459</td>\n",
              "      <td>0.413006</td>\n",
              "      <td>0.106782</td>\n",
              "      <td>4.055001</td>\n",
              "    </tr>\n",
              "    <tr>\n",
              "      <th>min</th>\n",
              "      <td>20.000000</td>\n",
              "      <td>4.000000e+03</td>\n",
              "      <td>0.000000</td>\n",
              "      <td>500.000000</td>\n",
              "      <td>5.420000</td>\n",
              "      <td>0.000000</td>\n",
              "      <td>0.000000</td>\n",
              "      <td>2.000000</td>\n",
              "    </tr>\n",
              "    <tr>\n",
              "      <th>25%</th>\n",
              "      <td>23.000000</td>\n",
              "      <td>3.850000e+04</td>\n",
              "      <td>2.000000</td>\n",
              "      <td>5000.000000</td>\n",
              "      <td>7.900000</td>\n",
              "      <td>0.000000</td>\n",
              "      <td>0.090000</td>\n",
              "      <td>3.000000</td>\n",
              "    </tr>\n",
              "    <tr>\n",
              "      <th>50%</th>\n",
              "      <td>26.000000</td>\n",
              "      <td>5.500000e+04</td>\n",
              "      <td>4.000000</td>\n",
              "      <td>8000.000000</td>\n",
              "      <td>10.990000</td>\n",
              "      <td>0.000000</td>\n",
              "      <td>0.150000</td>\n",
              "      <td>4.000000</td>\n",
              "    </tr>\n",
              "    <tr>\n",
              "      <th>75%</th>\n",
              "      <td>30.000000</td>\n",
              "      <td>7.920000e+04</td>\n",
              "      <td>7.000000</td>\n",
              "      <td>12200.000000</td>\n",
              "      <td>13.470000</td>\n",
              "      <td>0.000000</td>\n",
              "      <td>0.230000</td>\n",
              "      <td>8.000000</td>\n",
              "    </tr>\n",
              "    <tr>\n",
              "      <th>max</th>\n",
              "      <td>144.000000</td>\n",
              "      <td>6.000000e+06</td>\n",
              "      <td>123.000000</td>\n",
              "      <td>35000.000000</td>\n",
              "      <td>23.220000</td>\n",
              "      <td>1.000000</td>\n",
              "      <td>0.830000</td>\n",
              "      <td>30.000000</td>\n",
              "    </tr>\n",
              "  </tbody>\n",
              "</table>\n",
              "</div>"
            ],
            "text/plain": [
              "         person_age  person_income  person_emp_length     loan_amnt  \\\n",
              "count  32581.000000   3.258100e+04       31686.000000  32581.000000   \n",
              "mean      27.734600   6.607485e+04           4.789686   9589.371106   \n",
              "std        6.348078   6.198312e+04           4.142630   6322.086646   \n",
              "min       20.000000   4.000000e+03           0.000000    500.000000   \n",
              "25%       23.000000   3.850000e+04           2.000000   5000.000000   \n",
              "50%       26.000000   5.500000e+04           4.000000   8000.000000   \n",
              "75%       30.000000   7.920000e+04           7.000000  12200.000000   \n",
              "max      144.000000   6.000000e+06         123.000000  35000.000000   \n",
              "\n",
              "       loan_int_rate   loan_status  loan_percent_income  \\\n",
              "count   29465.000000  32581.000000         32581.000000   \n",
              "mean       11.011695      0.218164             0.170203   \n",
              "std         3.240459      0.413006             0.106782   \n",
              "min         5.420000      0.000000             0.000000   \n",
              "25%         7.900000      0.000000             0.090000   \n",
              "50%        10.990000      0.000000             0.150000   \n",
              "75%        13.470000      0.000000             0.230000   \n",
              "max        23.220000      1.000000             0.830000   \n",
              "\n",
              "       cb_person_cred_hist_length  \n",
              "count                32581.000000  \n",
              "mean                     5.804211  \n",
              "std                      4.055001  \n",
              "min                      2.000000  \n",
              "25%                      3.000000  \n",
              "50%                      4.000000  \n",
              "75%                      8.000000  \n",
              "max                     30.000000  "
            ]
          },
          "execution_count": 31,
          "metadata": {},
          "output_type": "execute_result"
        }
      ],
      "source": [
        "# Descriptive statistics\n",
        "data.describe() # check the dataset"
      ]
    },
    {
      "cell_type": "markdown",
      "metadata": {
        "id": "n1empmzA2bLo"
      },
      "source": [
        "Based on the descriptive statistics, missing values are observed in variables person_emp_length and loan_int_rate, while outliers are detected in person_age and person_emp_length. Furthermore, the dataset is examined for potential duplicate records."
      ]
    },
    {
      "cell_type": "code",
      "execution_count": null,
      "metadata": {
        "id": "Ty8zoh0P4rcx"
      },
      "outputs": [],
      "source": [
        "# Remove outlier values in the 'person_age' variable.\n",
        "for x in data.index:\n",
        "  if data.loc[x, 'person_age'] >= 100: # Exclude records where age is greater than or equal to 100 years.\n",
        "    data.drop(x, inplace = True)"
      ]
    },
    {
      "cell_type": "code",
      "execution_count": null,
      "metadata": {
        "colab": {
          "base_uri": "https://localhost:8080/",
          "height": 320
        },
        "id": "czeETTuDRZuK",
        "outputId": "26738213-4c75-4066-9ab4-00fe69df2522"
      },
      "outputs": [
        {
          "data": {
            "text/html": [
              "<div>\n",
              "<style scoped>\n",
              "    .dataframe tbody tr th:only-of-type {\n",
              "        vertical-align: middle;\n",
              "    }\n",
              "\n",
              "    .dataframe tbody tr th {\n",
              "        vertical-align: top;\n",
              "    }\n",
              "\n",
              "    .dataframe thead th {\n",
              "        text-align: right;\n",
              "    }\n",
              "</style>\n",
              "<table border=\"1\" class=\"dataframe\">\n",
              "  <thead>\n",
              "    <tr style=\"text-align: right;\">\n",
              "      <th></th>\n",
              "      <th>person_age</th>\n",
              "      <th>person_income</th>\n",
              "      <th>person_emp_length</th>\n",
              "      <th>loan_amnt</th>\n",
              "      <th>loan_int_rate</th>\n",
              "      <th>loan_status</th>\n",
              "      <th>loan_percent_income</th>\n",
              "      <th>cb_person_cred_hist_length</th>\n",
              "    </tr>\n",
              "  </thead>\n",
              "  <tbody>\n",
              "    <tr>\n",
              "      <th>count</th>\n",
              "      <td>32574.000000</td>\n",
              "      <td>3.257400e+04</td>\n",
              "      <td>31679.000000</td>\n",
              "      <td>32574.000000</td>\n",
              "      <td>29459.000000</td>\n",
              "      <td>32574.000000</td>\n",
              "      <td>32574.000000</td>\n",
              "      <td>32574.000000</td>\n",
              "    </tr>\n",
              "    <tr>\n",
              "      <th>mean</th>\n",
              "      <td>27.718426</td>\n",
              "      <td>6.587848e+04</td>\n",
              "      <td>4.782064</td>\n",
              "      <td>9588.018051</td>\n",
              "      <td>11.011529</td>\n",
              "      <td>0.218180</td>\n",
              "      <td>0.170202</td>\n",
              "      <td>5.804108</td>\n",
              "    </tr>\n",
              "    <tr>\n",
              "      <th>std</th>\n",
              "      <td>6.204987</td>\n",
              "      <td>5.253194e+04</td>\n",
              "      <td>4.034948</td>\n",
              "      <td>6320.249598</td>\n",
              "      <td>3.240497</td>\n",
              "      <td>0.413017</td>\n",
              "      <td>0.106755</td>\n",
              "      <td>4.053873</td>\n",
              "    </tr>\n",
              "    <tr>\n",
              "      <th>min</th>\n",
              "      <td>20.000000</td>\n",
              "      <td>4.000000e+03</td>\n",
              "      <td>0.000000</td>\n",
              "      <td>500.000000</td>\n",
              "      <td>5.420000</td>\n",
              "      <td>0.000000</td>\n",
              "      <td>0.000000</td>\n",
              "      <td>2.000000</td>\n",
              "    </tr>\n",
              "    <tr>\n",
              "      <th>25%</th>\n",
              "      <td>23.000000</td>\n",
              "      <td>3.850000e+04</td>\n",
              "      <td>2.000000</td>\n",
              "      <td>5000.000000</td>\n",
              "      <td>7.900000</td>\n",
              "      <td>0.000000</td>\n",
              "      <td>0.090000</td>\n",
              "      <td>3.000000</td>\n",
              "    </tr>\n",
              "    <tr>\n",
              "      <th>50%</th>\n",
              "      <td>26.000000</td>\n",
              "      <td>5.500000e+04</td>\n",
              "      <td>4.000000</td>\n",
              "      <td>8000.000000</td>\n",
              "      <td>10.990000</td>\n",
              "      <td>0.000000</td>\n",
              "      <td>0.150000</td>\n",
              "      <td>4.000000</td>\n",
              "    </tr>\n",
              "    <tr>\n",
              "      <th>75%</th>\n",
              "      <td>30.000000</td>\n",
              "      <td>7.920000e+04</td>\n",
              "      <td>7.000000</td>\n",
              "      <td>12200.000000</td>\n",
              "      <td>13.470000</td>\n",
              "      <td>0.000000</td>\n",
              "      <td>0.230000</td>\n",
              "      <td>8.000000</td>\n",
              "    </tr>\n",
              "    <tr>\n",
              "      <th>max</th>\n",
              "      <td>94.000000</td>\n",
              "      <td>2.039784e+06</td>\n",
              "      <td>41.000000</td>\n",
              "      <td>35000.000000</td>\n",
              "      <td>23.220000</td>\n",
              "      <td>1.000000</td>\n",
              "      <td>0.830000</td>\n",
              "      <td>30.000000</td>\n",
              "    </tr>\n",
              "  </tbody>\n",
              "</table>\n",
              "</div>"
            ],
            "text/plain": [
              "         person_age  person_income  person_emp_length     loan_amnt  \\\n",
              "count  32574.000000   3.257400e+04       31679.000000  32574.000000   \n",
              "mean      27.718426   6.587848e+04           4.782064   9588.018051   \n",
              "std        6.204987   5.253194e+04           4.034948   6320.249598   \n",
              "min       20.000000   4.000000e+03           0.000000    500.000000   \n",
              "25%       23.000000   3.850000e+04           2.000000   5000.000000   \n",
              "50%       26.000000   5.500000e+04           4.000000   8000.000000   \n",
              "75%       30.000000   7.920000e+04           7.000000  12200.000000   \n",
              "max       94.000000   2.039784e+06          41.000000  35000.000000   \n",
              "\n",
              "       loan_int_rate   loan_status  loan_percent_income  \\\n",
              "count   29459.000000  32574.000000         32574.000000   \n",
              "mean       11.011529      0.218180             0.170202   \n",
              "std         3.240497      0.413017             0.106755   \n",
              "min         5.420000      0.000000             0.000000   \n",
              "25%         7.900000      0.000000             0.090000   \n",
              "50%        10.990000      0.000000             0.150000   \n",
              "75%        13.470000      0.000000             0.230000   \n",
              "max        23.220000      1.000000             0.830000   \n",
              "\n",
              "       cb_person_cred_hist_length  \n",
              "count                32574.000000  \n",
              "mean                     5.804108  \n",
              "std                      4.053873  \n",
              "min                      2.000000  \n",
              "25%                      3.000000  \n",
              "50%                      4.000000  \n",
              "75%                      8.000000  \n",
              "max                     30.000000  "
            ]
          },
          "execution_count": 33,
          "metadata": {},
          "output_type": "execute_result"
        }
      ],
      "source": [
        "# Outliers in the 'person_emp_length' variable are identified and removed.\n",
        "for x in data.index:\n",
        "  if data.loc[x, 'person_emp_length'] >= 50: # Records with work experience of 50 years or more are excluded from the dataset.\n",
        "    data.drop(x, inplace = True)\n",
        "# The descriptive statistics are re-examined.\n",
        "data.describe()"
      ]
    },
    {
      "cell_type": "code",
      "execution_count": null,
      "metadata": {
        "colab": {
          "base_uri": "https://localhost:8080/",
          "height": 460
        },
        "id": "h3mwcM1SImhH",
        "outputId": "89bae05c-8596-406e-8b87-ab79552e9451"
      },
      "outputs": [
        {
          "data": {
            "text/plain": [
              "person_age                       0\n",
              "person_income                    0\n",
              "person_home_ownership            0\n",
              "person_emp_length              895\n",
              "loan_intent                      0\n",
              "loan_grade                       0\n",
              "loan_amnt                        0\n",
              "loan_int_rate                 3115\n",
              "loan_status                      0\n",
              "loan_percent_income              0\n",
              "cb_person_default_on_file        0\n",
              "cb_person_cred_hist_length       0\n",
              "dtype: int64"
            ]
          },
          "execution_count": 34,
          "metadata": {},
          "output_type": "execute_result"
        }
      ],
      "source": [
        "# The dataset is examined for missing values.\n",
        "data.isnull().sum()"
      ]
    },
    {
      "cell_type": "code",
      "execution_count": null,
      "metadata": {
        "colab": {
          "base_uri": "https://localhost:8080/",
          "height": 460
        },
        "id": "DwAYfaNFUGKG",
        "outputId": "a84189cc-4de0-4cea-f088-d46b14ace040"
      },
      "outputs": [
        {
          "name": "stderr",
          "output_type": "stream",
          "text": [
            "C:\\Users\\ADMIN\\AppData\\Local\\Temp\\ipykernel_80408\\2692805576.py:2: FutureWarning: A value is trying to be set on a copy of a DataFrame or Series through chained assignment using an inplace method.\n",
            "The behavior will change in pandas 3.0. This inplace method will never work because the intermediate object on which we are setting values always behaves as a copy.\n",
            "\n",
            "For example, when doing 'df[col].method(value, inplace=True)', try using 'df.method({col: value}, inplace=True)' or df[col] = df[col].method(value) instead, to perform the operation inplace on the original object.\n",
            "\n",
            "\n",
            "  data['person_emp_length'].fillna(data['person_emp_length'].median(), inplace = True)\n",
            "C:\\Users\\ADMIN\\AppData\\Local\\Temp\\ipykernel_80408\\2692805576.py:3: FutureWarning: A value is trying to be set on a copy of a DataFrame or Series through chained assignment using an inplace method.\n",
            "The behavior will change in pandas 3.0. This inplace method will never work because the intermediate object on which we are setting values always behaves as a copy.\n",
            "\n",
            "For example, when doing 'df[col].method(value, inplace=True)', try using 'df.method({col: value}, inplace=True)' or df[col] = df[col].method(value) instead, to perform the operation inplace on the original object.\n",
            "\n",
            "\n",
            "  data['loan_int_rate'].fillna(data['loan_int_rate'].median(), inplace = True)\n"
          ]
        },
        {
          "data": {
            "text/plain": [
              "person_age                    0\n",
              "person_income                 0\n",
              "person_home_ownership         0\n",
              "person_emp_length             0\n",
              "loan_intent                   0\n",
              "loan_grade                    0\n",
              "loan_amnt                     0\n",
              "loan_int_rate                 0\n",
              "loan_status                   0\n",
              "loan_percent_income           0\n",
              "cb_person_default_on_file     0\n",
              "cb_person_cred_hist_length    0\n",
              "dtype: int64"
            ]
          },
          "execution_count": 35,
          "metadata": {},
          "output_type": "execute_result"
        }
      ],
      "source": [
        "# Fill in missing values.\n",
        "data['person_emp_length'].fillna(data['person_emp_length'].median(), inplace = True)\n",
        "data['loan_int_rate'].fillna(data['loan_int_rate'].median(), inplace = True)\n",
        "# Verify.\n",
        "data.isnull().sum()"
      ]
    },
    {
      "cell_type": "code",
      "execution_count": null,
      "metadata": {
        "colab": {
          "base_uri": "https://localhost:8080/"
        },
        "id": "-6q8c16Ja0yW",
        "outputId": "8568326c-2c96-44be-adf6-c5a48f6dfb37"
      },
      "outputs": [
        {
          "data": {
            "text/plain": [
              "np.int64(165)"
            ]
          },
          "execution_count": 36,
          "metadata": {},
          "output_type": "execute_result"
        }
      ],
      "source": [
        "# Check for duplicate entries in the dataset\n",
        "data.duplicated().sum()"
      ]
    },
    {
      "cell_type": "code",
      "execution_count": null,
      "metadata": {
        "id": "K0bz_fseBJsx"
      },
      "outputs": [],
      "source": [
        "# Remove duplicate data\n",
        "data = data.drop_duplicates()"
      ]
    },
    {
      "cell_type": "markdown",
      "metadata": {
        "id": "hDzXBdOvJB5t"
      },
      "source": [
        "# **Chapter 3: Data Exploration and Analysis**"
      ]
    },
    {
      "cell_type": "code",
      "execution_count": null,
      "metadata": {
        "colab": {
          "base_uri": "https://localhost:8080/",
          "height": 320
        },
        "id": "Yo6AZO8oVOi1",
        "outputId": "5df7a383-b162-44fb-c9e2-582b8ec713d3"
      },
      "outputs": [
        {
          "data": {
            "text/html": [
              "<div>\n",
              "<style scoped>\n",
              "    .dataframe tbody tr th:only-of-type {\n",
              "        vertical-align: middle;\n",
              "    }\n",
              "\n",
              "    .dataframe tbody tr th {\n",
              "        vertical-align: top;\n",
              "    }\n",
              "\n",
              "    .dataframe thead th {\n",
              "        text-align: right;\n",
              "    }\n",
              "</style>\n",
              "<table border=\"1\" class=\"dataframe\">\n",
              "  <thead>\n",
              "    <tr style=\"text-align: right;\">\n",
              "      <th></th>\n",
              "      <th>person_age</th>\n",
              "      <th>person_income</th>\n",
              "      <th>person_emp_length</th>\n",
              "      <th>loan_amnt</th>\n",
              "      <th>loan_int_rate</th>\n",
              "      <th>loan_status</th>\n",
              "      <th>loan_percent_income</th>\n",
              "      <th>cb_person_cred_hist_length</th>\n",
              "    </tr>\n",
              "  </thead>\n",
              "  <tbody>\n",
              "    <tr>\n",
              "      <th>count</th>\n",
              "      <td>32409.000000</td>\n",
              "      <td>3.240900e+04</td>\n",
              "      <td>32409.000000</td>\n",
              "      <td>32409.000000</td>\n",
              "      <td>32409.000000</td>\n",
              "      <td>32409.000000</td>\n",
              "      <td>32409.000000</td>\n",
              "      <td>32409.000000</td>\n",
              "    </tr>\n",
              "    <tr>\n",
              "      <th>mean</th>\n",
              "      <td>27.730754</td>\n",
              "      <td>6.589428e+04</td>\n",
              "      <td>4.761424</td>\n",
              "      <td>9592.486655</td>\n",
              "      <td>11.014512</td>\n",
              "      <td>0.218705</td>\n",
              "      <td>0.170248</td>\n",
              "      <td>5.811194</td>\n",
              "    </tr>\n",
              "    <tr>\n",
              "      <th>std</th>\n",
              "      <td>6.210445</td>\n",
              "      <td>5.251787e+04</td>\n",
              "      <td>3.983757</td>\n",
              "      <td>6320.885127</td>\n",
              "      <td>3.083104</td>\n",
              "      <td>0.413374</td>\n",
              "      <td>0.106785</td>\n",
              "      <td>4.057899</td>\n",
              "    </tr>\n",
              "    <tr>\n",
              "      <th>min</th>\n",
              "      <td>20.000000</td>\n",
              "      <td>4.000000e+03</td>\n",
              "      <td>0.000000</td>\n",
              "      <td>500.000000</td>\n",
              "      <td>5.420000</td>\n",
              "      <td>0.000000</td>\n",
              "      <td>0.000000</td>\n",
              "      <td>2.000000</td>\n",
              "    </tr>\n",
              "    <tr>\n",
              "      <th>25%</th>\n",
              "      <td>23.000000</td>\n",
              "      <td>3.850000e+04</td>\n",
              "      <td>2.000000</td>\n",
              "      <td>5000.000000</td>\n",
              "      <td>8.490000</td>\n",
              "      <td>0.000000</td>\n",
              "      <td>0.090000</td>\n",
              "      <td>3.000000</td>\n",
              "    </tr>\n",
              "    <tr>\n",
              "      <th>50%</th>\n",
              "      <td>26.000000</td>\n",
              "      <td>5.500000e+04</td>\n",
              "      <td>4.000000</td>\n",
              "      <td>8000.000000</td>\n",
              "      <td>10.990000</td>\n",
              "      <td>0.000000</td>\n",
              "      <td>0.150000</td>\n",
              "      <td>4.000000</td>\n",
              "    </tr>\n",
              "    <tr>\n",
              "      <th>75%</th>\n",
              "      <td>30.000000</td>\n",
              "      <td>7.920000e+04</td>\n",
              "      <td>7.000000</td>\n",
              "      <td>12250.000000</td>\n",
              "      <td>13.110000</td>\n",
              "      <td>0.000000</td>\n",
              "      <td>0.230000</td>\n",
              "      <td>8.000000</td>\n",
              "    </tr>\n",
              "    <tr>\n",
              "      <th>max</th>\n",
              "      <td>94.000000</td>\n",
              "      <td>2.039784e+06</td>\n",
              "      <td>41.000000</td>\n",
              "      <td>35000.000000</td>\n",
              "      <td>23.220000</td>\n",
              "      <td>1.000000</td>\n",
              "      <td>0.830000</td>\n",
              "      <td>30.000000</td>\n",
              "    </tr>\n",
              "  </tbody>\n",
              "</table>\n",
              "</div>"
            ],
            "text/plain": [
              "         person_age  person_income  person_emp_length     loan_amnt  \\\n",
              "count  32409.000000   3.240900e+04       32409.000000  32409.000000   \n",
              "mean      27.730754   6.589428e+04           4.761424   9592.486655   \n",
              "std        6.210445   5.251787e+04           3.983757   6320.885127   \n",
              "min       20.000000   4.000000e+03           0.000000    500.000000   \n",
              "25%       23.000000   3.850000e+04           2.000000   5000.000000   \n",
              "50%       26.000000   5.500000e+04           4.000000   8000.000000   \n",
              "75%       30.000000   7.920000e+04           7.000000  12250.000000   \n",
              "max       94.000000   2.039784e+06          41.000000  35000.000000   \n",
              "\n",
              "       loan_int_rate   loan_status  loan_percent_income  \\\n",
              "count   32409.000000  32409.000000         32409.000000   \n",
              "mean       11.014512      0.218705             0.170248   \n",
              "std         3.083104      0.413374             0.106785   \n",
              "min         5.420000      0.000000             0.000000   \n",
              "25%         8.490000      0.000000             0.090000   \n",
              "50%        10.990000      0.000000             0.150000   \n",
              "75%        13.110000      0.000000             0.230000   \n",
              "max        23.220000      1.000000             0.830000   \n",
              "\n",
              "       cb_person_cred_hist_length  \n",
              "count                32409.000000  \n",
              "mean                     5.811194  \n",
              "std                      4.057899  \n",
              "min                      2.000000  \n",
              "25%                      3.000000  \n",
              "50%                      4.000000  \n",
              "75%                      8.000000  \n",
              "max                     30.000000  "
            ]
          },
          "execution_count": 38,
          "metadata": {},
          "output_type": "execute_result"
        }
      ],
      "source": [
        "# Descriptive Statistics (Standardized Data)\n",
        "data.describe()"
      ]
    },
    {
      "cell_type": "code",
      "execution_count": null,
      "metadata": {
        "colab": {
          "base_uri": "https://localhost:8080/",
          "height": 320
        },
        "id": "RJmVAM3zD2iq",
        "outputId": "1fc653eb-bb15-4a81-c0e5-06afd22d99f2"
      },
      "outputs": [
        {
          "data": {
            "text/html": [
              "<div>\n",
              "<style scoped>\n",
              "    .dataframe tbody tr th:only-of-type {\n",
              "        vertical-align: middle;\n",
              "    }\n",
              "\n",
              "    .dataframe tbody tr th {\n",
              "        vertical-align: top;\n",
              "    }\n",
              "\n",
              "    .dataframe thead th {\n",
              "        text-align: right;\n",
              "    }\n",
              "</style>\n",
              "<table border=\"1\" class=\"dataframe\">\n",
              "  <thead>\n",
              "    <tr style=\"text-align: right;\">\n",
              "      <th></th>\n",
              "      <th>person_age</th>\n",
              "      <th>person_income</th>\n",
              "      <th>person_emp_length</th>\n",
              "      <th>loan_amnt</th>\n",
              "      <th>loan_int_rate</th>\n",
              "      <th>loan_status</th>\n",
              "      <th>loan_percent_income</th>\n",
              "      <th>cb_person_cred_hist_length</th>\n",
              "    </tr>\n",
              "  </thead>\n",
              "  <tbody>\n",
              "    <tr>\n",
              "      <th>person_age</th>\n",
              "      <td>1.000000</td>\n",
              "      <td>0.140487</td>\n",
              "      <td>0.170606</td>\n",
              "      <td>0.051646</td>\n",
              "      <td>0.010493</td>\n",
              "      <td>-0.021774</td>\n",
              "      <td>-0.041468</td>\n",
              "      <td>0.878240</td>\n",
              "    </tr>\n",
              "    <tr>\n",
              "      <th>person_income</th>\n",
              "      <td>0.140487</td>\n",
              "      <td>1.000000</td>\n",
              "      <td>0.155094</td>\n",
              "      <td>0.316732</td>\n",
              "      <td>-0.000959</td>\n",
              "      <td>-0.169262</td>\n",
              "      <td>-0.294766</td>\n",
              "      <td>0.122654</td>\n",
              "    </tr>\n",
              "    <tr>\n",
              "      <th>person_emp_length</th>\n",
              "      <td>0.170606</td>\n",
              "      <td>0.155094</td>\n",
              "      <td>1.000000</td>\n",
              "      <td>0.111896</td>\n",
              "      <td>-0.053037</td>\n",
              "      <td>-0.085967</td>\n",
              "      <td>-0.058419</td>\n",
              "      <td>0.147920</td>\n",
              "    </tr>\n",
              "    <tr>\n",
              "      <th>loan_amnt</th>\n",
              "      <td>0.051646</td>\n",
              "      <td>0.316732</td>\n",
              "      <td>0.111896</td>\n",
              "      <td>1.000000</td>\n",
              "      <td>0.139587</td>\n",
              "      <td>0.105601</td>\n",
              "      <td>0.572632</td>\n",
              "      <td>0.042139</td>\n",
              "    </tr>\n",
              "    <tr>\n",
              "      <th>loan_int_rate</th>\n",
              "      <td>0.010493</td>\n",
              "      <td>-0.000959</td>\n",
              "      <td>-0.053037</td>\n",
              "      <td>0.139587</td>\n",
              "      <td>1.000000</td>\n",
              "      <td>0.320041</td>\n",
              "      <td>0.114316</td>\n",
              "      <td>0.014961</td>\n",
              "    </tr>\n",
              "    <tr>\n",
              "      <th>loan_status</th>\n",
              "      <td>-0.021774</td>\n",
              "      <td>-0.169262</td>\n",
              "      <td>-0.085967</td>\n",
              "      <td>0.105601</td>\n",
              "      <td>0.320041</td>\n",
              "      <td>1.000000</td>\n",
              "      <td>0.379580</td>\n",
              "      <td>-0.016441</td>\n",
              "    </tr>\n",
              "    <tr>\n",
              "      <th>loan_percent_income</th>\n",
              "      <td>-0.041468</td>\n",
              "      <td>-0.294766</td>\n",
              "      <td>-0.058419</td>\n",
              "      <td>0.572632</td>\n",
              "      <td>0.114316</td>\n",
              "      <td>0.379580</td>\n",
              "      <td>1.000000</td>\n",
              "      <td>-0.031214</td>\n",
              "    </tr>\n",
              "    <tr>\n",
              "      <th>cb_person_cred_hist_length</th>\n",
              "      <td>0.878240</td>\n",
              "      <td>0.122654</td>\n",
              "      <td>0.147920</td>\n",
              "      <td>0.042139</td>\n",
              "      <td>0.014961</td>\n",
              "      <td>-0.016441</td>\n",
              "      <td>-0.031214</td>\n",
              "      <td>1.000000</td>\n",
              "    </tr>\n",
              "  </tbody>\n",
              "</table>\n",
              "</div>"
            ],
            "text/plain": [
              "                            person_age  person_income  person_emp_length  \\\n",
              "person_age                    1.000000       0.140487           0.170606   \n",
              "person_income                 0.140487       1.000000           0.155094   \n",
              "person_emp_length             0.170606       0.155094           1.000000   \n",
              "loan_amnt                     0.051646       0.316732           0.111896   \n",
              "loan_int_rate                 0.010493      -0.000959          -0.053037   \n",
              "loan_status                  -0.021774      -0.169262          -0.085967   \n",
              "loan_percent_income          -0.041468      -0.294766          -0.058419   \n",
              "cb_person_cred_hist_length    0.878240       0.122654           0.147920   \n",
              "\n",
              "                            loan_amnt  loan_int_rate  loan_status  \\\n",
              "person_age                   0.051646       0.010493    -0.021774   \n",
              "person_income                0.316732      -0.000959    -0.169262   \n",
              "person_emp_length            0.111896      -0.053037    -0.085967   \n",
              "loan_amnt                    1.000000       0.139587     0.105601   \n",
              "loan_int_rate                0.139587       1.000000     0.320041   \n",
              "loan_status                  0.105601       0.320041     1.000000   \n",
              "loan_percent_income          0.572632       0.114316     0.379580   \n",
              "cb_person_cred_hist_length   0.042139       0.014961    -0.016441   \n",
              "\n",
              "                            loan_percent_income  cb_person_cred_hist_length  \n",
              "person_age                            -0.041468                    0.878240  \n",
              "person_income                         -0.294766                    0.122654  \n",
              "person_emp_length                     -0.058419                    0.147920  \n",
              "loan_amnt                              0.572632                    0.042139  \n",
              "loan_int_rate                          0.114316                    0.014961  \n",
              "loan_status                            0.379580                   -0.016441  \n",
              "loan_percent_income                    1.000000                   -0.031214  \n",
              "cb_person_cred_hist_length            -0.031214                    1.000000  "
            ]
          },
          "execution_count": 39,
          "metadata": {},
          "output_type": "execute_result"
        }
      ],
      "source": [
        "# Correlation Matrix of Variables\n",
        "data.corr(numeric_only=True)"
      ]
    },
    {
      "cell_type": "code",
      "execution_count": null,
      "metadata": {
        "colab": {
          "base_uri": "https://localhost:8080/",
          "height": 631
        },
        "id": "3W5W40PrVYKa",
        "outputId": "f9b6d16e-c25e-4057-cedf-2dbadcf74531"
      },
      "outputs": [
        {
          "data": {
            "image/png": "[encoded data removed]",
            "text/plain": [
              "<Figure size 640x480 with 2 Axes>"
            ]
          },
          "metadata": {},
          "output_type": "display_data"
        }
      ],
      "source": [
        "# Correlation Matrix via Heatmap\n",
        "sns.heatmap(data.corr(numeric_only=True),cmap='coolwarm',annot=True)\n",
        "plt.title('Ma trận tương quan')\n",
        "plt.show()"
      ]
    },
    {
      "cell_type": "markdown",
      "metadata": {
        "id": "s3becqVtLIyr"
      },
      "source": [
        "Based on the heatmap, we focus on analyzing the relationships between variables and loan_status (default status):\n",
        "- loan_percent_income (Loan-to-income ratio): Shows a significant positive correlation with loan_status (correlation coefficient ≈ 0.38). This indicates that a higher loan-to-income ratio is associated with an increased likelihood of loan default. This is an important risk factor.\n",
        "- loan_int_rate (Loan interest rate): Positively correlated with loan_status (correlation coefficient ≈ 0.32). Higher interest rates are often associated with a greater risk of default.\n",
        "- loan_amnt (Loan amount): Positively correlated with loan_status (correlation coefficient ≈ 0.11). Although weaker than the previous variables, larger loan amounts tend to be associated with a higher default risk.\n",
        "- person_income (Annual income): Negatively correlated with loan_status (correlation coefficient ≈ -0.17). This is reasonable, as borrowers with higher income generally have better repayment ability, thus lower default risk.\n",
        "- person_emp_length (Years of employment): Negatively correlated with loan_status (correlation coefficient ≈ -0.086). Although weak, the relationship suggests that borrowers with longer work experience are less likely to default.\n",
        "- person_age (Age) and cb_person_cred_hist_length (Credit history length): Both show very weak or negligible correlation with loan_status. Notably, person_age and cb_person_cred_hist_length exhibit a very strong positive correlation (≈ 0.88), indicating that older borrowers tend to have longer credit histories. However, this relationship has little direct impact on loan_status.\n",
        "\n",
        "In summary, the variables with the most notable correlation with loan_status are loan_percent_income, loan_int_rate, and person_income. These variables are likely to be important predictors in the logistic regression model."
      ]
    },
    {
      "cell_type": "code",
      "execution_count": 52,
      "metadata": {
        "colab": {
          "base_uri": "https://localhost:8080/",
          "height": 488
        },
        "id": "GTTb5zo8b0vw",
        "outputId": "9452eae4-b0db-4715-db01-8b804bd875cc"
      },
      "outputs": [
        {
          "data": {
            "image/png": "[encoded data removed]",
            "text/plain": [
              "<Figure size 1200x600 with 1 Axes>"
            ]
          },
          "metadata": {},
          "output_type": "display_data"
        }
      ],
      "source": [
        "# Bar chart of borrowers’ home ownership status (person_home_ownership).\n",
        "plt.figure(figsize=(12, 6))\n",
        "ax = sns.countplot(\n",
        "    data=data,\n",
        "    x='person_home_ownership',\n",
        "    palette='viridis',\n",
        "    hue='person_home_ownership',\n",
        "    legend=False\n",
        ")\n",
        "plt.title('Distribution of Borrowers by Home Ownership Status')\n",
        "plt.xlabel('Home Ownership Status')\n",
        "plt.ylabel('Number of Borrowers')\n",
        "plt.xticks(rotation=0)\n",
        "\n",
        "total = len(data['person_home_ownership'])\n",
        "for p in ax.patches:\n",
        "    percentage = f'{100 * p.get_height() / total:.1f}%'\n",
        "    x = p.get_x() + p.get_width() / 2\n",
        "    y = p.get_height()\n",
        "    ax.annotate(percentage, (x, y), ha='center', va='bottom')\n",
        "\n",
        "plt.show()"
      ]
    },
    {
      "cell_type": "markdown",
      "metadata": {
        "id": "P4om0wSNE0oN"
      },
      "source": [
        "The chart shows that the majority of borrowers fall into the renting category (RENT), accounting for more than 50% of the dataset, followed by those who own a home with a mortgage (MORTGAGE) at 41.2%. Borrowers who fully own their homes (OWN) represent the smallest group, at only 7.9%. This suggests that over 91.7% of borrowers who are either renting or in the process of purchasing a home have a very high demand for unsecured loans."
      ]
    },
    {
      "cell_type": "code",
      "execution_count": 53,
      "metadata": {
        "colab": {
          "base_uri": "https://localhost:8080/",
          "height": 453
        },
        "id": "c307ebbd",
        "outputId": "4e6a104c-9cdd-43a0-9af4-252f630f360b"
      },
      "outputs": [
        {
          "data": {
            "image/png": "[encoded data removed]",
            "text/plain": [
              "<Figure size 1200x600 with 1 Axes>"
            ]
          },
          "metadata": {},
          "output_type": "display_data"
        }
      ],
      "source": [
        "# Bar chart of loan purposes (loan_intent).\n",
        "plt.figure(figsize=(12, 6))\n",
        "ax = sns.countplot(\n",
        "    data=data,\n",
        "    x='loan_intent',\n",
        "    palette='viridis',\n",
        "    hue='loan_intent',\n",
        "    legend=False\n",
        ")\n",
        "plt.title('Distribution of Loan Purposes')\n",
        "plt.xlabel('Loan Purpose')\n",
        "plt.ylabel('Number of Borrowers')\n",
        "plt.xticks(rotation=45, ha='right')\n",
        "\n",
        "total = len(data['loan_intent'])\n",
        "for p in ax.patches:\n",
        "    percentage = f'{100 * p.get_height() / total:.1f}%'\n",
        "    x = p.get_x() + p.get_width() / 2\n",
        "    y = p.get_height()\n",
        "    ax.annotate(percentage, (x, y), ha='center', va='bottom')\n",
        "\n",
        "plt.tight_layout()\n",
        "plt.show()\n"
      ]
    },
    {
      "cell_type": "markdown",
      "metadata": {
        "id": "VmM3ZL5CGa11"
      },
      "source": [
        "Regarding the loan purpose chart, the purposes are relatively common and evenly distributed in the range of 16%–19.8%. Education (EDUCATION) ranks highest at 19.8%, followed by medical expenses (MEDICAL) at 18.6%, business investment (VENTURE) at 17.5%, personal use (PERSONAL) at 17%, debt consolidation (DEBTCONSOLIDATION) at 16%, and the lowest being home improvement (HOMEIMPROVEMENT) at 11.1%. This reflects the diverse borrowing needs of individuals for various personal and business purposes."
      ]
    },
    {
      "cell_type": "code",
      "execution_count": 54,
      "metadata": {
        "colab": {
          "base_uri": "https://localhost:8080/",
          "height": 489
        },
        "id": "eed62a9b",
        "outputId": "675f6a90-d7c3-48f3-a8aa-9106c4d34f71"
      },
      "outputs": [
        {
          "data": {
            "image/png": "[encoded data removed]",
            "text/plain": [
              "<Figure size 1200x600 with 1 Axes>"
            ]
          },
          "metadata": {},
          "output_type": "display_data"
        }
      ],
      "source": [
        "# Bar chart of credit rating groups (loan_grade)\n",
        "plt.figure(figsize=(12, 6))\n",
        "ax = sns.countplot(\n",
        "    data=data,\n",
        "    x='loan_grade',\n",
        "    palette='viridis',\n",
        "    hue='loan_grade',\n",
        "    legend=False\n",
        ")\n",
        "plt.title('Distribution of Credit Rating Groups')\n",
        "plt.xlabel('Loan Grade')\n",
        "plt.ylabel('Number of Borrowers')\n",
        "plt.xticks(rotation=0)\n",
        "\n",
        "total = len(data['loan_grade'])\n",
        "for p in ax.patches:\n",
        "    percentage = f'{100 * p.get_height() / total:.1f}%'\n",
        "    x = p.get_x() + p.get_width() / 2\n",
        "    y = p.get_height()\n",
        "    ax.annotate(percentage, (x, y), ha='center', va='bottom')\n",
        "\n",
        "plt.show()\n"
      ]
    },
    {
      "cell_type": "markdown",
      "metadata": {
        "id": "6BwMWHcYJ8qg"
      },
      "source": [
        "The credit grade distribution chart indicates that the majority of loans fall within grades A, B, and C, accounting for approximately 85% of the dataset. Lower-grade loans (D, E, F, G) make up only about 15%. This suggests that most loans have at least average credit quality; however, a notable proportion of high-risk loans still exists and warrants thorough analysis."
      ]
    },
    {
      "cell_type": "code",
      "execution_count": 55,
      "metadata": {
        "colab": {
          "base_uri": "https://localhost:8080/",
          "height": 488
        },
        "id": "fe009268",
        "outputId": "7fc5b45f-68fa-422b-a9b7-e1ca9bf60f4d"
      },
      "outputs": [
        {
          "data": {
            "image/png": "[encoded data removed]",
            "text/plain": [
              "<Figure size 1200x600 with 1 Axes>"
            ]
          },
          "metadata": {},
          "output_type": "display_data"
        }
      ],
      "source": [
        "# Chart of the Default History Variable (cb_person_default_on_file)\n",
        "plt.figure(figsize=(12, 6))\n",
        "ax = sns.countplot(data=data, x='cb_person_default_on_file', palette='viridis', hue='cb_person_default_on_file', legend=False)\n",
        "plt.title('Distribution of Default History')\n",
        "plt.xlabel('Has Default History')\n",
        "plt.ylabel('Number of Borrowers')\n",
        "plt.xticks(rotation=0)\n",
        "total = len(data['cb_person_default_on_file'])\n",
        "for p in ax.patches:\n",
        "    percentage = f'{100 * p.get_height() / total:.1f}%'\n",
        "    x = p.get_x() + p.get_width() / 2\n",
        "    y = p.get_height()\n",
        "    ax.annotate(percentage, (x, y), ha='center', va='bottom')\n",
        "plt.show()\n"
      ]
    },
    {
      "cell_type": "markdown",
      "metadata": {
        "id": "YirmnDVXKlb-"
      },
      "source": [
        "The chart indicates that the vast majority of borrowers in the dataset have no prior default history (N), accounting for approximately 82.3%. Only a small proportion, 17.7%, have a history of default (Y). This is a positive signal regarding the overall quality of the dataset; however, the smaller group with a default history (Y) represents a critical segment that warrants closer examination in risk prediction models."
      ]
    },
    {
      "cell_type": "markdown",
      "metadata": {
        "id": "k3FozR-aMTne"
      },
      "source": [
        "# **Chapter 4: Application of the Logistic Regression Model**"
      ]
    },
    {
      "cell_type": "markdown",
      "metadata": {
        "id": "5c435937"
      },
      "source": [
        "## **4.1. Objective**\n",
        "The goal is to develop a Logistic Regression model to predict the probability of a customer defaulting on a loan (loan_status = 1) based on demographic, financial, and loan-related features.\n",
        "This is a binary classification problem, where:\n",
        "- loan_status = 1 → Customer defaults on the loan\n",
        "- loan_status = 0 → Customer does not default on the loan"
      ]
    },
    {
      "cell_type": "markdown",
      "metadata": {
        "id": "ed59b3eb"
      },
      "source": [
        "## **4.2. Data Preparation**\n",
        "Mathematical models such as Logistic Regression cannot directly process string (categorical) data. Therefore, it is necessary to convert categorical variables into numerical form."
      ]
    },
    {
      "cell_type": "code",
      "execution_count": null,
      "metadata": {
        "colab": {
          "base_uri": "https://localhost:8080/",
          "height": 255
        },
        "id": "7494cd8f",
        "outputId": "cc70f51a-9e38-4d67-89e8-ef59d9461a6b"
      },
      "outputs": [
        {
          "data": {
            "text/html": [
              "<div>\n",
              "<style scoped>\n",
              "    .dataframe tbody tr th:only-of-type {\n",
              "        vertical-align: middle;\n",
              "    }\n",
              "\n",
              "    .dataframe tbody tr th {\n",
              "        vertical-align: top;\n",
              "    }\n",
              "\n",
              "    .dataframe thead th {\n",
              "        text-align: right;\n",
              "    }\n",
              "</style>\n",
              "<table border=\"1\" class=\"dataframe\">\n",
              "  <thead>\n",
              "    <tr style=\"text-align: right;\">\n",
              "      <th></th>\n",
              "      <th>person_age</th>\n",
              "      <th>person_income</th>\n",
              "      <th>person_emp_length</th>\n",
              "      <th>loan_amnt</th>\n",
              "      <th>loan_int_rate</th>\n",
              "      <th>loan_status</th>\n",
              "      <th>loan_percent_income</th>\n",
              "      <th>cb_person_cred_hist_length</th>\n",
              "      <th>person_home_ownership_OTHER</th>\n",
              "      <th>person_home_ownership_OWN</th>\n",
              "      <th>...</th>\n",
              "      <th>loan_intent_MEDICAL</th>\n",
              "      <th>loan_intent_PERSONAL</th>\n",
              "      <th>loan_intent_VENTURE</th>\n",
              "      <th>loan_grade_B</th>\n",
              "      <th>loan_grade_C</th>\n",
              "      <th>loan_grade_D</th>\n",
              "      <th>loan_grade_E</th>\n",
              "      <th>loan_grade_F</th>\n",
              "      <th>loan_grade_G</th>\n",
              "      <th>cb_person_default_on_file_Y</th>\n",
              "    </tr>\n",
              "  </thead>\n",
              "  <tbody>\n",
              "    <tr>\n",
              "      <th>1</th>\n",
              "      <td>21</td>\n",
              "      <td>9600</td>\n",
              "      <td>5.0</td>\n",
              "      <td>1000</td>\n",
              "      <td>11.14</td>\n",
              "      <td>0</td>\n",
              "      <td>0.10</td>\n",
              "      <td>2</td>\n",
              "      <td>False</td>\n",
              "      <td>True</td>\n",
              "      <td>...</td>\n",
              "      <td>False</td>\n",
              "      <td>False</td>\n",
              "      <td>False</td>\n",
              "      <td>True</td>\n",
              "      <td>False</td>\n",
              "      <td>False</td>\n",
              "      <td>False</td>\n",
              "      <td>False</td>\n",
              "      <td>False</td>\n",
              "      <td>False</td>\n",
              "    </tr>\n",
              "    <tr>\n",
              "      <th>2</th>\n",
              "      <td>25</td>\n",
              "      <td>9600</td>\n",
              "      <td>1.0</td>\n",
              "      <td>5500</td>\n",
              "      <td>12.87</td>\n",
              "      <td>1</td>\n",
              "      <td>0.57</td>\n",
              "      <td>3</td>\n",
              "      <td>False</td>\n",
              "      <td>False</td>\n",
              "      <td>...</td>\n",
              "      <td>True</td>\n",
              "      <td>False</td>\n",
              "      <td>False</td>\n",
              "      <td>False</td>\n",
              "      <td>True</td>\n",
              "      <td>False</td>\n",
              "      <td>False</td>\n",
              "      <td>False</td>\n",
              "      <td>False</td>\n",
              "      <td>False</td>\n",
              "    </tr>\n",
              "    <tr>\n",
              "      <th>3</th>\n",
              "      <td>23</td>\n",
              "      <td>65500</td>\n",
              "      <td>4.0</td>\n",
              "      <td>35000</td>\n",
              "      <td>15.23</td>\n",
              "      <td>1</td>\n",
              "      <td>0.53</td>\n",
              "      <td>2</td>\n",
              "      <td>False</td>\n",
              "      <td>False</td>\n",
              "      <td>...</td>\n",
              "      <td>True</td>\n",
              "      <td>False</td>\n",
              "      <td>False</td>\n",
              "      <td>False</td>\n",
              "      <td>True</td>\n",
              "      <td>False</td>\n",
              "      <td>False</td>\n",
              "      <td>False</td>\n",
              "      <td>False</td>\n",
              "      <td>False</td>\n",
              "    </tr>\n",
              "    <tr>\n",
              "      <th>4</th>\n",
              "      <td>24</td>\n",
              "      <td>54400</td>\n",
              "      <td>8.0</td>\n",
              "      <td>35000</td>\n",
              "      <td>14.27</td>\n",
              "      <td>1</td>\n",
              "      <td>0.55</td>\n",
              "      <td>4</td>\n",
              "      <td>False</td>\n",
              "      <td>False</td>\n",
              "      <td>...</td>\n",
              "      <td>True</td>\n",
              "      <td>False</td>\n",
              "      <td>False</td>\n",
              "      <td>False</td>\n",
              "      <td>True</td>\n",
              "      <td>False</td>\n",
              "      <td>False</td>\n",
              "      <td>False</td>\n",
              "      <td>False</td>\n",
              "      <td>True</td>\n",
              "    </tr>\n",
              "    <tr>\n",
              "      <th>5</th>\n",
              "      <td>21</td>\n",
              "      <td>9900</td>\n",
              "      <td>2.0</td>\n",
              "      <td>2500</td>\n",
              "      <td>7.14</td>\n",
              "      <td>1</td>\n",
              "      <td>0.25</td>\n",
              "      <td>2</td>\n",
              "      <td>False</td>\n",
              "      <td>True</td>\n",
              "      <td>...</td>\n",
              "      <td>False</td>\n",
              "      <td>False</td>\n",
              "      <td>True</td>\n",
              "      <td>False</td>\n",
              "      <td>False</td>\n",
              "      <td>False</td>\n",
              "      <td>False</td>\n",
              "      <td>False</td>\n",
              "      <td>False</td>\n",
              "      <td>False</td>\n",
              "    </tr>\n",
              "  </tbody>\n",
              "</table>\n",
              "<p>5 rows × 23 columns</p>\n",
              "</div>"
            ],
            "text/plain": [
              "   person_age  person_income  person_emp_length  loan_amnt  loan_int_rate  \\\n",
              "1          21           9600                5.0       1000          11.14   \n",
              "2          25           9600                1.0       5500          12.87   \n",
              "3          23          65500                4.0      35000          15.23   \n",
              "4          24          54400                8.0      35000          14.27   \n",
              "5          21           9900                2.0       2500           7.14   \n",
              "\n",
              "   loan_status  loan_percent_income  cb_person_cred_hist_length  \\\n",
              "1            0                 0.10                           2   \n",
              "2            1                 0.57                           3   \n",
              "3            1                 0.53                           2   \n",
              "4            1                 0.55                           4   \n",
              "5            1                 0.25                           2   \n",
              "\n",
              "   person_home_ownership_OTHER  person_home_ownership_OWN  ...  \\\n",
              "1                        False                       True  ...   \n",
              "2                        False                      False  ...   \n",
              "3                        False                      False  ...   \n",
              "4                        False                      False  ...   \n",
              "5                        False                       True  ...   \n",
              "\n",
              "   loan_intent_MEDICAL  loan_intent_PERSONAL  loan_intent_VENTURE  \\\n",
              "1                False                 False                False   \n",
              "2                 True                 False                False   \n",
              "3                 True                 False                False   \n",
              "4                 True                 False                False   \n",
              "5                False                 False                 True   \n",
              "\n",
              "   loan_grade_B  loan_grade_C  loan_grade_D  loan_grade_E  loan_grade_F  \\\n",
              "1          True         False         False         False         False   \n",
              "2         False          True         False         False         False   \n",
              "3         False          True         False         False         False   \n",
              "4         False          True         False         False         False   \n",
              "5         False         False         False         False         False   \n",
              "\n",
              "   loan_grade_G  cb_person_default_on_file_Y  \n",
              "1         False                        False  \n",
              "2         False                        False  \n",
              "3         False                        False  \n",
              "4         False                         True  \n",
              "5         False                        False  \n",
              "\n",
              "[5 rows x 23 columns]"
            ]
          },
          "execution_count": 45,
          "metadata": {},
          "output_type": "execute_result"
        }
      ],
      "source": [
        "# Categorical Variable Encoding\n",
        "# Apply One-Hot Encoding with drop_first=True to avoid the dummy variable trap (multicollinearity issue)\n",
        "categorical_cols = data.select_dtypes(include='object').columns\n",
        "data_encoded = pd.get_dummies(data, columns=categorical_cols, drop_first=True)\n",
        "data_encoded.head()"
      ]
    },
    {
      "cell_type": "markdown",
      "metadata": {
        "id": "4353140a"
      },
      "source": [
        "## **4.3. Data Splitting**\n",
        "The encoded dataset is split into a training set and a testing set.\n",
        "We use an 80%–20% split, where 80% of the data is used for training to allow the model to learn effectively, and 20% is reserved for testing to evaluate the model’s generalization capability."
      ]
    },
    {
      "cell_type": "code",
      "execution_count": null,
      "metadata": {
        "id": "20c584b0"
      },
      "outputs": [],
      "source": [
        "# The input variables (features)\n",
        "X = data_encoded.drop('loan_status', axis=1)\n",
        "# The target variable (loan_status)\n",
        "y = data_encoded['loan_status']\n",
        "# 80% training – 20% testing split\n",
        "X_train, X_test, y_train, y_test = train_test_split(X, y, test_size=0.2, random_state=42)"
      ]
    },
    {
      "cell_type": "markdown",
      "metadata": {
        "id": "176009cf"
      },
      "source": [
        "## **4.4. Model Development and Training**\n",
        "\n",
        "Initialize and train the Logistic Regression model using the training dataset."
      ]
    },
    {
      "cell_type": "code",
      "execution_count": null,
      "metadata": {
        "colab": {
          "base_uri": "https://localhost:8080/",
          "height": 80
        },
        "id": "0c2ea9fd",
        "outputId": "ca821b7f-df41-46f3-8234-c6e29103cf6a"
      },
      "outputs": [
        {
          "name": "stderr",
          "output_type": "stream",
          "text": [
            "C:\\Users\\ADMIN\\AppData\\Local\\Packages\\PythonSoftwareFoundation.Python.3.11_qbz5n2kfra8p0\\LocalCache\\local-packages\\Python311\\site-packages\\sklearn\\linear_model\\_logistic.py:473: ConvergenceWarning: lbfgs failed to converge after 100 iteration(s) (status=1):\n",
            "STOP: TOTAL NO. OF ITERATIONS REACHED LIMIT\n",
            "\n",
            "Increase the number of iterations to improve the convergence (max_iter=100).\n",
            "You might also want to scale the data as shown in:\n",
            "    https://scikit-learn.org/stable/modules/preprocessing.html\n",
            "Please also refer to the documentation for alternative solver options:\n",
            "    https://scikit-learn.org/stable/modules/linear_model.html#logistic-regression\n",
            "  n_iter_i = _check_optimize_result(\n"
          ]
        },
        {
          "data": {
            "text/html": [
              "<style>#sk-container-id-1 {\n",
              "  /* Definition of color scheme common for light and dark mode */\n",
              "  --sklearn-color-text: #000;\n",
              "  --sklearn-color-text-muted: #666;\n",
              "  --sklearn-color-line: gray;\n",
              "  /* Definition of color scheme for unfitted estimators */\n",
              "  --sklearn-color-unfitted-level-0: #fff5e6;\n",
              "  --sklearn-color-unfitted-level-1: #f6e4d2;\n",
              "  --sklearn-color-unfitted-level-2: #ffe0b3;\n",
              "  --sklearn-color-unfitted-level-3: chocolate;\n",
              "  /* Definition of color scheme for fitted estimators */\n",
              "  --sklearn-color-fitted-level-0: #f0f8ff;\n",
              "  --sklearn-color-fitted-level-1: #d4ebff;\n",
              "  --sklearn-color-fitted-level-2: #b3dbfd;\n",
              "  --sklearn-color-fitted-level-3: cornflowerblue;\n",
              "\n",
              "  /* Specific color for light theme */\n",
              "  --sklearn-color-text-on-default-background: var(--sg-text-color, var(--theme-code-foreground, var(--jp-content-font-color1, black)));\n",
              "  --sklearn-color-background: var(--sg-background-color, var(--theme-background, var(--jp-layout-color0, white)));\n",
              "  --sklearn-color-border-box: var(--sg-text-color, var(--theme-code-foreground, var(--jp-content-font-color1, black)));\n",
              "  --sklearn-color-icon: #696969;\n",
              "\n",
              "  @media (prefers-color-scheme: dark) {\n",
              "    /* Redefinition of color scheme for dark theme */\n",
              "    --sklearn-color-text-on-default-background: var(--sg-text-color, var(--theme-code-foreground, var(--jp-content-font-color1, white)));\n",
              "    --sklearn-color-background: var(--sg-background-color, var(--theme-background, var(--jp-layout-color0, #111)));\n",
              "    --sklearn-color-border-box: var(--sg-text-color, var(--theme-code-foreground, var(--jp-content-font-color1, white)));\n",
              "    --sklearn-color-icon: #878787;\n",
              "  }\n",
              "}\n",
              "\n",
              "#sk-container-id-1 {\n",
              "  color: var(--sklearn-color-text);\n",
              "}\n",
              "\n",
              "#sk-container-id-1 pre {\n",
              "  padding: 0;\n",
              "}\n",
              "\n",
              "#sk-container-id-1 input.sk-hidden--visually {\n",
              "  border: 0;\n",
              "  clip: rect(1px 1px 1px 1px);\n",
              "  clip: rect(1px, 1px, 1px, 1px);\n",
              "  height: 1px;\n",
              "  margin: -1px;\n",
              "  overflow: hidden;\n",
              "  padding: 0;\n",
              "  position: absolute;\n",
              "  width: 1px;\n",
              "}\n",
              "\n",
              "#sk-container-id-1 div.sk-dashed-wrapped {\n",
              "  border: 1px dashed var(--sklearn-color-line);\n",
              "  margin: 0 0.4em 0.5em 0.4em;\n",
              "  box-sizing: border-box;\n",
              "  padding-bottom: 0.4em;\n",
              "  background-color: var(--sklearn-color-background);\n",
              "}\n",
              "\n",
              "#sk-container-id-1 div.sk-container {\n",
              "  /* jupyter's `normalize.less` sets `[hidden] { display: none; }`\n",
              "     but bootstrap.min.css set `[hidden] { display: none !important; }`\n",
              "     so we also need the `!important` here to be able to override the\n",
              "     default hidden behavior on the sphinx rendered scikit-learn.org.\n",
              "     See: https://github.com/scikit-learn/scikit-learn/issues/21755 */\n",
              "  display: inline-block !important;\n",
              "  position: relative;\n",
              "}\n",
              "\n",
              "#sk-container-id-1 div.sk-text-repr-fallback {\n",
              "  display: none;\n",
              "}\n",
              "\n",
              "div.sk-parallel-item,\n",
              "div.sk-serial,\n",
              "div.sk-item {\n",
              "  /* draw centered vertical line to link estimators */\n",
              "  background-image: linear-gradient(var(--sklearn-color-text-on-default-background), var(--sklearn-color-text-on-default-background));\n",
              "  background-size: 2px 100%;\n",
              "  background-repeat: no-repeat;\n",
              "  background-position: center center;\n",
              "}\n",
              "\n",
              "/* Parallel-specific style estimator block */\n",
              "\n",
              "#sk-container-id-1 div.sk-parallel-item::after {\n",
              "  content: \"\";\n",
              "  width: 100%;\n",
              "  border-bottom: 2px solid var(--sklearn-color-text-on-default-background);\n",
              "  flex-grow: 1;\n",
              "}\n",
              "\n",
              "#sk-container-id-1 div.sk-parallel {\n",
              "  display: flex;\n",
              "  align-items: stretch;\n",
              "  justify-content: center;\n",
              "  background-color: var(--sklearn-color-background);\n",
              "  position: relative;\n",
              "}\n",
              "\n",
              "#sk-container-id-1 div.sk-parallel-item {\n",
              "  display: flex;\n",
              "  flex-direction: column;\n",
              "}\n",
              "\n",
              "#sk-container-id-1 div.sk-parallel-item:first-child::after {\n",
              "  align-self: flex-end;\n",
              "  width: 50%;\n",
              "}\n",
              "\n",
              "#sk-container-id-1 div.sk-parallel-item:last-child::after {\n",
              "  align-self: flex-start;\n",
              "  width: 50%;\n",
              "}\n",
              "\n",
              "#sk-container-id-1 div.sk-parallel-item:only-child::after {\n",
              "  width: 0;\n",
              "}\n",
              "\n",
              "/* Serial-specific style estimator block */\n",
              "\n",
              "#sk-container-id-1 div.sk-serial {\n",
              "  display: flex;\n",
              "  flex-direction: column;\n",
              "  align-items: center;\n",
              "  background-color: var(--sklearn-color-background);\n",
              "  padding-right: 1em;\n",
              "  padding-left: 1em;\n",
              "}\n",
              "\n",
              "\n",
              "/* Toggleable style: style used for estimator/Pipeline/ColumnTransformer box that is\n",
              "clickable and can be expanded/collapsed.\n",
              "- Pipeline and ColumnTransformer use this feature and define the default style\n",
              "- Estimators will overwrite some part of the style using the `sk-estimator` class\n",
              "*/\n",
              "\n",
              "/* Pipeline and ColumnTransformer style (default) */\n",
              "\n",
              "#sk-container-id-1 div.sk-toggleable {\n",
              "  /* Default theme specific background. It is overwritten whether we have a\n",
              "  specific estimator or a Pipeline/ColumnTransformer */\n",
              "  background-color: var(--sklearn-color-background);\n",
              "}\n",
              "\n",
              "/* Toggleable label */\n",
              "#sk-container-id-1 label.sk-toggleable__label {\n",
              "  cursor: pointer;\n",
              "  display: flex;\n",
              "  width: 100%;\n",
              "  margin-bottom: 0;\n",
              "  padding: 0.5em;\n",
              "  box-sizing: border-box;\n",
              "  text-align: center;\n",
              "  align-items: start;\n",
              "  justify-content: space-between;\n",
              "  gap: 0.5em;\n",
              "}\n",
              "\n",
              "#sk-container-id-1 label.sk-toggleable__label .caption {\n",
              "  font-size: 0.6rem;\n",
              "  font-weight: lighter;\n",
              "  color: var(--sklearn-color-text-muted);\n",
              "}\n",
              "\n",
              "#sk-container-id-1 label.sk-toggleable__label-arrow:before {\n",
              "  /* Arrow on the left of the label */\n",
              "  content: \"▸\";\n",
              "  float: left;\n",
              "  margin-right: 0.25em;\n",
              "  color: var(--sklearn-color-icon);\n",
              "}\n",
              "\n",
              "#sk-container-id-1 label.sk-toggleable__label-arrow:hover:before {\n",
              "  color: var(--sklearn-color-text);\n",
              "}\n",
              "\n",
              "/* Toggleable content - dropdown */\n",
              "\n",
              "#sk-container-id-1 div.sk-toggleable__content {\n",
              "  display: none;\n",
              "  text-align: left;\n",
              "  /* unfitted */\n",
              "  background-color: var(--sklearn-color-unfitted-level-0);\n",
              "}\n",
              "\n",
              "#sk-container-id-1 div.sk-toggleable__content.fitted {\n",
              "  /* fitted */\n",
              "  background-color: var(--sklearn-color-fitted-level-0);\n",
              "}\n",
              "\n",
              "#sk-container-id-1 div.sk-toggleable__content pre {\n",
              "  margin: 0.2em;\n",
              "  border-radius: 0.25em;\n",
              "  color: var(--sklearn-color-text);\n",
              "  /* unfitted */\n",
              "  background-color: var(--sklearn-color-unfitted-level-0);\n",
              "}\n",
              "\n",
              "#sk-container-id-1 div.sk-toggleable__content.fitted pre {\n",
              "  /* unfitted */\n",
              "  background-color: var(--sklearn-color-fitted-level-0);\n",
              "}\n",
              "\n",
              "#sk-container-id-1 input.sk-toggleable__control:checked~div.sk-toggleable__content {\n",
              "  /* Expand drop-down */\n",
              "  display: block;\n",
              "  width: 100%;\n",
              "  overflow: visible;\n",
              "}\n",
              "\n",
              "#sk-container-id-1 input.sk-toggleable__control:checked~label.sk-toggleable__label-arrow:before {\n",
              "  content: \"▾\";\n",
              "}\n",
              "\n",
              "/* Pipeline/ColumnTransformer-specific style */\n",
              "\n",
              "#sk-container-id-1 div.sk-label input.sk-toggleable__control:checked~label.sk-toggleable__label {\n",
              "  color: var(--sklearn-color-text);\n",
              "  background-color: var(--sklearn-color-unfitted-level-2);\n",
              "}\n",
              "\n",
              "#sk-container-id-1 div.sk-label.fitted input.sk-toggleable__control:checked~label.sk-toggleable__label {\n",
              "  background-color: var(--sklearn-color-fitted-level-2);\n",
              "}\n",
              "\n",
              "/* Estimator-specific style */\n",
              "\n",
              "/* Colorize estimator box */\n",
              "#sk-container-id-1 div.sk-estimator input.sk-toggleable__control:checked~label.sk-toggleable__label {\n",
              "  /* unfitted */\n",
              "  background-color: var(--sklearn-color-unfitted-level-2);\n",
              "}\n",
              "\n",
              "#sk-container-id-1 div.sk-estimator.fitted input.sk-toggleable__control:checked~label.sk-toggleable__label {\n",
              "  /* fitted */\n",
              "  background-color: var(--sklearn-color-fitted-level-2);\n",
              "}\n",
              "\n",
              "#sk-container-id-1 div.sk-label label.sk-toggleable__label,\n",
              "#sk-container-id-1 div.sk-label label {\n",
              "  /* The background is the default theme color */\n",
              "  color: var(--sklearn-color-text-on-default-background);\n",
              "}\n",
              "\n",
              "/* On hover, darken the color of the background */\n",
              "#sk-container-id-1 div.sk-label:hover label.sk-toggleable__label {\n",
              "  color: var(--sklearn-color-text);\n",
              "  background-color: var(--sklearn-color-unfitted-level-2);\n",
              "}\n",
              "\n",
              "/* Label box, darken color on hover, fitted */\n",
              "#sk-container-id-1 div.sk-label.fitted:hover label.sk-toggleable__label.fitted {\n",
              "  color: var(--sklearn-color-text);\n",
              "  background-color: var(--sklearn-color-fitted-level-2);\n",
              "}\n",
              "\n",
              "/* Estimator label */\n",
              "\n",
              "#sk-container-id-1 div.sk-label label {\n",
              "  font-family: monospace;\n",
              "  font-weight: bold;\n",
              "  display: inline-block;\n",
              "  line-height: 1.2em;\n",
              "}\n",
              "\n",
              "#sk-container-id-1 div.sk-label-container {\n",
              "  text-align: center;\n",
              "}\n",
              "\n",
              "/* Estimator-specific */\n",
              "#sk-container-id-1 div.sk-estimator {\n",
              "  font-family: monospace;\n",
              "  border: 1px dotted var(--sklearn-color-border-box);\n",
              "  border-radius: 0.25em;\n",
              "  box-sizing: border-box;\n",
              "  margin-bottom: 0.5em;\n",
              "  /* unfitted */\n",
              "  background-color: var(--sklearn-color-unfitted-level-0);\n",
              "}\n",
              "\n",
              "#sk-container-id-1 div.sk-estimator.fitted {\n",
              "  /* fitted */\n",
              "  background-color: var(--sklearn-color-fitted-level-0);\n",
              "}\n",
              "\n",
              "/* on hover */\n",
              "#sk-container-id-1 div.sk-estimator:hover {\n",
              "  /* unfitted */\n",
              "  background-color: var(--sklearn-color-unfitted-level-2);\n",
              "}\n",
              "\n",
              "#sk-container-id-1 div.sk-estimator.fitted:hover {\n",
              "  /* fitted */\n",
              "  background-color: var(--sklearn-color-fitted-level-2);\n",
              "}\n",
              "\n",
              "/* Specification for estimator info (e.g. \"i\" and \"?\") */\n",
              "\n",
              "/* Common style for \"i\" and \"?\" */\n",
              "\n",
              ".sk-estimator-doc-link,\n",
              "a:link.sk-estimator-doc-link,\n",
              "a:visited.sk-estimator-doc-link {\n",
              "  float: right;\n",
              "  font-size: smaller;\n",
              "  line-height: 1em;\n",
              "  font-family: monospace;\n",
              "  background-color: var(--sklearn-color-background);\n",
              "  border-radius: 1em;\n",
              "  height: 1em;\n",
              "  width: 1em;\n",
              "  text-decoration: none !important;\n",
              "  margin-left: 0.5em;\n",
              "  text-align: center;\n",
              "  /* unfitted */\n",
              "  border: var(--sklearn-color-unfitted-level-1) 1pt solid;\n",
              "  color: var(--sklearn-color-unfitted-level-1);\n",
              "}\n",
              "\n",
              ".sk-estimator-doc-link.fitted,\n",
              "a:link.sk-estimator-doc-link.fitted,\n",
              "a:visited.sk-estimator-doc-link.fitted {\n",
              "  /* fitted */\n",
              "  border: var(--sklearn-color-fitted-level-1) 1pt solid;\n",
              "  color: var(--sklearn-color-fitted-level-1);\n",
              "}\n",
              "\n",
              "/* On hover */\n",
              "div.sk-estimator:hover .sk-estimator-doc-link:hover,\n",
              ".sk-estimator-doc-link:hover,\n",
              "div.sk-label-container:hover .sk-estimator-doc-link:hover,\n",
              ".sk-estimator-doc-link:hover {\n",
              "  /* unfitted */\n",
              "  background-color: var(--sklearn-color-unfitted-level-3);\n",
              "  color: var(--sklearn-color-background);\n",
              "  text-decoration: none;\n",
              "}\n",
              "\n",
              "div.sk-estimator.fitted:hover .sk-estimator-doc-link.fitted:hover,\n",
              ".sk-estimator-doc-link.fitted:hover,\n",
              "div.sk-label-container:hover .sk-estimator-doc-link.fitted:hover,\n",
              ".sk-estimator-doc-link.fitted:hover {\n",
              "  /* fitted */\n",
              "  background-color: var(--sklearn-color-fitted-level-3);\n",
              "  color: var(--sklearn-color-background);\n",
              "  text-decoration: none;\n",
              "}\n",
              "\n",
              "/* Span, style for the box shown on hovering the info icon */\n",
              ".sk-estimator-doc-link span {\n",
              "  display: none;\n",
              "  z-index: 9999;\n",
              "  position: relative;\n",
              "  font-weight: normal;\n",
              "  right: .2ex;\n",
              "  padding: .5ex;\n",
              "  margin: .5ex;\n",
              "  width: min-content;\n",
              "  min-width: 20ex;\n",
              "  max-width: 50ex;\n",
              "  color: var(--sklearn-color-text);\n",
              "  box-shadow: 2pt 2pt 4pt #999;\n",
              "  /* unfitted */\n",
              "  background: var(--sklearn-color-unfitted-level-0);\n",
              "  border: .5pt solid var(--sklearn-color-unfitted-level-3);\n",
              "}\n",
              "\n",
              ".sk-estimator-doc-link.fitted span {\n",
              "  /* fitted */\n",
              "  background: var(--sklearn-color-fitted-level-0);\n",
              "  border: var(--sklearn-color-fitted-level-3);\n",
              "}\n",
              "\n",
              ".sk-estimator-doc-link:hover span {\n",
              "  display: block;\n",
              "}\n",
              "\n",
              "/* \"?\"-specific style due to the `<a>` HTML tag */\n",
              "\n",
              "#sk-container-id-1 a.estimator_doc_link {\n",
              "  float: right;\n",
              "  font-size: 1rem;\n",
              "  line-height: 1em;\n",
              "  font-family: monospace;\n",
              "  background-color: var(--sklearn-color-background);\n",
              "  border-radius: 1rem;\n",
              "  height: 1rem;\n",
              "  width: 1rem;\n",
              "  text-decoration: none;\n",
              "  /* unfitted */\n",
              "  color: var(--sklearn-color-unfitted-level-1);\n",
              "  border: var(--sklearn-color-unfitted-level-1) 1pt solid;\n",
              "}\n",
              "\n",
              "#sk-container-id-1 a.estimator_doc_link.fitted {\n",
              "  /* fitted */\n",
              "  border: var(--sklearn-color-fitted-level-1) 1pt solid;\n",
              "  color: var(--sklearn-color-fitted-level-1);\n",
              "}\n",
              "\n",
              "/* On hover */\n",
              "#sk-container-id-1 a.estimator_doc_link:hover {\n",
              "  /* unfitted */\n",
              "  background-color: var(--sklearn-color-unfitted-level-3);\n",
              "  color: var(--sklearn-color-background);\n",
              "  text-decoration: none;\n",
              "}\n",
              "\n",
              "#sk-container-id-1 a.estimator_doc_link.fitted:hover {\n",
              "  /* fitted */\n",
              "  background-color: var(--sklearn-color-fitted-level-3);\n",
              "}\n",
              "\n",
              ".estimator-table summary {\n",
              "    padding: .5rem;\n",
              "    font-family: monospace;\n",
              "    cursor: pointer;\n",
              "}\n",
              "\n",
              ".estimator-table details[open] {\n",
              "    padding-left: 0.1rem;\n",
              "    padding-right: 0.1rem;\n",
              "    padding-bottom: 0.3rem;\n",
              "}\n",
              "\n",
              ".estimator-table .parameters-table {\n",
              "    margin-left: auto !important;\n",
              "    margin-right: auto !important;\n",
              "}\n",
              "\n",
              ".estimator-table .parameters-table tr:nth-child(odd) {\n",
              "    background-color: #fff;\n",
              "}\n",
              "\n",
              ".estimator-table .parameters-table tr:nth-child(even) {\n",
              "    background-color: #f6f6f6;\n",
              "}\n",
              "\n",
              ".estimator-table .parameters-table tr:hover {\n",
              "    background-color: #e0e0e0;\n",
              "}\n",
              "\n",
              ".estimator-table table td {\n",
              "    border: 1px solid rgba(106, 105, 104, 0.232);\n",
              "}\n",
              "\n",
              ".user-set td {\n",
              "    color:rgb(255, 94, 0);\n",
              "    text-align: left;\n",
              "}\n",
              "\n",
              ".user-set td.value pre {\n",
              "    color:rgb(255, 94, 0) !important;\n",
              "    background-color: transparent !important;\n",
              "}\n",
              "\n",
              ".default td {\n",
              "    color: black;\n",
              "    text-align: left;\n",
              "}\n",
              "\n",
              ".user-set td i,\n",
              ".default td i {\n",
              "    color: black;\n",
              "}\n",
              "\n",
              ".copy-paste-icon {\n",
              "    background-image: url(data:image/svg+xml;base64,PHN2ZyB4bWxucz0iaHR0cDovL3d3dy53My5vcmcvMjAwMC9zdmciIHZpZXdCb3g9IjAgMCA0NDggNTEyIj48IS0tIUZvbnQgQXdlc29tZSBGcmVlIDYuNy4yIGJ5IEBmb250YXdlc29tZSAtIGh0dHBzOi8vZm9udGF3ZXNvbWUuY29tIExpY2Vuc2UgLSBodHRwczovL2ZvbnRhd2Vzb21lLmNvbS9saWNlbnNlL2ZyZWUgQ29weXJpZ2h0IDIwMjUgRm9udGljb25zLCBJbmMuLS0+PHBhdGggZD0iTTIwOCAwTDMzMi4xIDBjMTIuNyAwIDI0LjkgNS4xIDMzLjkgMTQuMWw2Ny45IDY3LjljOSA5IDE0LjEgMjEuMiAxNC4xIDMzLjlMNDQ4IDMzNmMwIDI2LjUtMjEuNSA0OC00OCA0OGwtMTkyIDBjLTI2LjUgMC00OC0yMS41LTQ4LTQ4bDAtMjg4YzAtMjYuNSAyMS41LTQ4IDQ4LTQ4ek00OCAxMjhsODAgMCAwIDY0LTY0IDAgMCAyNTYgMTkyIDAgMC0zMiA2NCAwIDAgNDhjMCAyNi41LTIxLjUgNDgtNDggNDhMNDggNTEyYy0yNi41IDAtNDgtMjEuNS00OC00OEwwIDE3NmMwLTI2LjUgMjEuNS00OCA0OC00OHoiLz48L3N2Zz4=);\n",
              "    background-repeat: no-repeat;\n",
              "    background-size: 14px 14px;\n",
              "    background-position: 0;\n",
              "    display: inline-block;\n",
              "    width: 14px;\n",
              "    height: 14px;\n",
              "    cursor: pointer;\n",
              "}\n",
              "</style><body><div id=\"sk-container-id-1\" class=\"sk-top-container\"><div class=\"sk-text-repr-fallback\"><pre>LogisticRegression()</pre><b>In a Jupyter environment, please rerun this cell to show the HTML representation or trust the notebook. <br />On GitHub, the HTML representation is unable to render, please try loading this page with nbviewer.org.</b></div><div class=\"sk-container\" hidden><div class=\"sk-item\"><div class=\"sk-estimator fitted sk-toggleable\"><input class=\"sk-toggleable__control sk-hidden--visually\" id=\"sk-estimator-id-1\" type=\"checkbox\" checked><label for=\"sk-estimator-id-1\" class=\"sk-toggleable__label fitted sk-toggleable__label-arrow\"><div><div>LogisticRegression</div></div><div><a class=\"sk-estimator-doc-link fitted\" rel=\"noreferrer\" target=\"_blank\" href=\"https://scikit-learn.org/1.7/modules/generated/sklearn.linear_model.LogisticRegression.html\">?<span>Documentation for LogisticRegression</span></a><span class=\"sk-estimator-doc-link fitted\">i<span>Fitted</span></span></div></label><div class=\"sk-toggleable__content fitted\" data-param-prefix=\"\">\n",
              "        <div class=\"estimator-table\">\n",
              "            <details>\n",
              "                <summary>Parameters</summary>\n",
              "                <table class=\"parameters-table\">\n",
              "                  <tbody>\n",
              "                    \n",
              "        <tr class=\"default\">\n",
              "            <td><i class=\"copy-paste-icon\"\n",
              "                 onclick=\"copyToClipboard('penalty',\n",
              "                          this.parentElement.nextElementSibling)\"\n",
              "            ></i></td>\n",
              "            <td class=\"param\">penalty&nbsp;</td>\n",
              "            <td class=\"value\">&#x27;l2&#x27;</td>\n",
              "        </tr>\n",
              "    \n",
              "\n",
              "        <tr class=\"default\">\n",
              "            <td><i class=\"copy-paste-icon\"\n",
              "                 onclick=\"copyToClipboard('dual',\n",
              "                          this.parentElement.nextElementSibling)\"\n",
              "            ></i></td>\n",
              "            <td class=\"param\">dual&nbsp;</td>\n",
              "            <td class=\"value\">False</td>\n",
              "        </tr>\n",
              "    \n",
              "\n",
              "        <tr class=\"default\">\n",
              "            <td><i class=\"copy-paste-icon\"\n",
              "                 onclick=\"copyToClipboard('tol',\n",
              "                          this.parentElement.nextElementSibling)\"\n",
              "            ></i></td>\n",
              "            <td class=\"param\">tol&nbsp;</td>\n",
              "            <td class=\"value\">0.0001</td>\n",
              "        </tr>\n",
              "    \n",
              "\n",
              "        <tr class=\"default\">\n",
              "            <td><i class=\"copy-paste-icon\"\n",
              "                 onclick=\"copyToClipboard('C',\n",
              "                          this.parentElement.nextElementSibling)\"\n",
              "            ></i></td>\n",
              "            <td class=\"param\">C&nbsp;</td>\n",
              "            <td class=\"value\">1.0</td>\n",
              "        </tr>\n",
              "    \n",
              "\n",
              "        <tr class=\"default\">\n",
              "            <td><i class=\"copy-paste-icon\"\n",
              "                 onclick=\"copyToClipboard('fit_intercept',\n",
              "                          this.parentElement.nextElementSibling)\"\n",
              "            ></i></td>\n",
              "            <td class=\"param\">fit_intercept&nbsp;</td>\n",
              "            <td class=\"value\">True</td>\n",
              "        </tr>\n",
              "    \n",
              "\n",
              "        <tr class=\"default\">\n",
              "            <td><i class=\"copy-paste-icon\"\n",
              "                 onclick=\"copyToClipboard('intercept_scaling',\n",
              "                          this.parentElement.nextElementSibling)\"\n",
              "            ></i></td>\n",
              "            <td class=\"param\">intercept_scaling&nbsp;</td>\n",
              "            <td class=\"value\">1</td>\n",
              "        </tr>\n",
              "    \n",
              "\n",
              "        <tr class=\"default\">\n",
              "            <td><i class=\"copy-paste-icon\"\n",
              "                 onclick=\"copyToClipboard('class_weight',\n",
              "                          this.parentElement.nextElementSibling)\"\n",
              "            ></i></td>\n",
              "            <td class=\"param\">class_weight&nbsp;</td>\n",
              "            <td class=\"value\">None</td>\n",
              "        </tr>\n",
              "    \n",
              "\n",
              "        <tr class=\"default\">\n",
              "            <td><i class=\"copy-paste-icon\"\n",
              "                 onclick=\"copyToClipboard('random_state',\n",
              "                          this.parentElement.nextElementSibling)\"\n",
              "            ></i></td>\n",
              "            <td class=\"param\">random_state&nbsp;</td>\n",
              "            <td class=\"value\">None</td>\n",
              "        </tr>\n",
              "    \n",
              "\n",
              "        <tr class=\"default\">\n",
              "            <td><i class=\"copy-paste-icon\"\n",
              "                 onclick=\"copyToClipboard('solver',\n",
              "                          this.parentElement.nextElementSibling)\"\n",
              "            ></i></td>\n",
              "            <td class=\"param\">solver&nbsp;</td>\n",
              "            <td class=\"value\">&#x27;lbfgs&#x27;</td>\n",
              "        </tr>\n",
              "    \n",
              "\n",
              "        <tr class=\"default\">\n",
              "            <td><i class=\"copy-paste-icon\"\n",
              "                 onclick=\"copyToClipboard('max_iter',\n",
              "                          this.parentElement.nextElementSibling)\"\n",
              "            ></i></td>\n",
              "            <td class=\"param\">max_iter&nbsp;</td>\n",
              "            <td class=\"value\">100</td>\n",
              "        </tr>\n",
              "    \n",
              "\n",
              "        <tr class=\"default\">\n",
              "            <td><i class=\"copy-paste-icon\"\n",
              "                 onclick=\"copyToClipboard('multi_class',\n",
              "                          this.parentElement.nextElementSibling)\"\n",
              "            ></i></td>\n",
              "            <td class=\"param\">multi_class&nbsp;</td>\n",
              "            <td class=\"value\">&#x27;deprecated&#x27;</td>\n",
              "        </tr>\n",
              "    \n",
              "\n",
              "        <tr class=\"default\">\n",
              "            <td><i class=\"copy-paste-icon\"\n",
              "                 onclick=\"copyToClipboard('verbose',\n",
              "                          this.parentElement.nextElementSibling)\"\n",
              "            ></i></td>\n",
              "            <td class=\"param\">verbose&nbsp;</td>\n",
              "            <td class=\"value\">0</td>\n",
              "        </tr>\n",
              "    \n",
              "\n",
              "        <tr class=\"default\">\n",
              "            <td><i class=\"copy-paste-icon\"\n",
              "                 onclick=\"copyToClipboard('warm_start',\n",
              "                          this.parentElement.nextElementSibling)\"\n",
              "            ></i></td>\n",
              "            <td class=\"param\">warm_start&nbsp;</td>\n",
              "            <td class=\"value\">False</td>\n",
              "        </tr>\n",
              "    \n",
              "\n",
              "        <tr class=\"default\">\n",
              "            <td><i class=\"copy-paste-icon\"\n",
              "                 onclick=\"copyToClipboard('n_jobs',\n",
              "                          this.parentElement.nextElementSibling)\"\n",
              "            ></i></td>\n",
              "            <td class=\"param\">n_jobs&nbsp;</td>\n",
              "            <td class=\"value\">None</td>\n",
              "        </tr>\n",
              "    \n",
              "\n",
              "        <tr class=\"default\">\n",
              "            <td><i class=\"copy-paste-icon\"\n",
              "                 onclick=\"copyToClipboard('l1_ratio',\n",
              "                          this.parentElement.nextElementSibling)\"\n",
              "            ></i></td>\n",
              "            <td class=\"param\">l1_ratio&nbsp;</td>\n",
              "            <td class=\"value\">None</td>\n",
              "        </tr>\n",
              "    \n",
              "                  </tbody>\n",
              "                </table>\n",
              "            </details>\n",
              "        </div>\n",
              "    </div></div></div></div></div><script>function copyToClipboard(text, element) {\n",
              "    // Get the parameter prefix from the closest toggleable content\n",
              "    const toggleableContent = element.closest('.sk-toggleable__content');\n",
              "    const paramPrefix = toggleableContent ? toggleableContent.dataset.paramPrefix : '';\n",
              "    const fullParamName = paramPrefix ? `${paramPrefix}${text}` : text;\n",
              "\n",
              "    const originalStyle = element.style;\n",
              "    const computedStyle = window.getComputedStyle(element);\n",
              "    const originalWidth = computedStyle.width;\n",
              "    const originalHTML = element.innerHTML.replace('Copied!', '');\n",
              "\n",
              "    navigator.clipboard.writeText(fullParamName)\n",
              "        .then(() => {\n",
              "            element.style.width = originalWidth;\n",
              "            element.style.color = 'green';\n",
              "            element.innerHTML = \"Copied!\";\n",
              "\n",
              "            setTimeout(() => {\n",
              "                element.innerHTML = originalHTML;\n",
              "                element.style = originalStyle;\n",
              "            }, 2000);\n",
              "        })\n",
              "        .catch(err => {\n",
              "            console.error('Failed to copy:', err);\n",
              "            element.style.color = 'red';\n",
              "            element.innerHTML = \"Failed!\";\n",
              "            setTimeout(() => {\n",
              "                element.innerHTML = originalHTML;\n",
              "                element.style = originalStyle;\n",
              "            }, 2000);\n",
              "        });\n",
              "    return false;\n",
              "}\n",
              "\n",
              "document.querySelectorAll('.fa-regular.fa-copy').forEach(function(element) {\n",
              "    const toggleableContent = element.closest('.sk-toggleable__content');\n",
              "    const paramPrefix = toggleableContent ? toggleableContent.dataset.paramPrefix : '';\n",
              "    const paramName = element.parentElement.nextElementSibling.textContent.trim();\n",
              "    const fullParamName = paramPrefix ? `${paramPrefix}${paramName}` : paramName;\n",
              "\n",
              "    element.setAttribute('title', fullParamName);\n",
              "});\n",
              "</script></body>"
            ],
            "text/plain": [
              "LogisticRegression()"
            ]
          },
          "execution_count": 47,
          "metadata": {},
          "output_type": "execute_result"
        }
      ],
      "source": [
        "# The model is trained on the training set\n",
        "# Logistic Regression learns to estimate the probability of default based on the input variables X\n",
        "model = LogisticRegression()\n",
        "model.fit(X_train, y_train)"
      ]
    },
    {
      "cell_type": "markdown",
      "metadata": {
        "id": "cec6a67d"
      },
      "source": [
        "## **4.5. Model Evaluation**\n",
        "Use the test dataset to assess the model’s performance using appropriate metrics (e.g., Confusion Matrix, Classification Report)."
      ]
    },
    {
      "cell_type": "code",
      "execution_count": null,
      "metadata": {
        "colab": {
          "base_uri": "https://localhost:8080/"
        },
        "id": "d7e54e22",
        "outputId": "93d74d5d-73c2-425b-8eb1-ca75a1ebd0dc"
      },
      "outputs": [
        {
          "name": "stdout",
          "output_type": "stream",
          "text": [
            "Confusion Matrix:\n",
            "[[4873  187]\n",
            " [ 948  474]]\n"
          ]
        }
      ],
      "source": [
        "# Use the trained model to predict the labels of the test dataset X_test\n",
        "y_pred = model.predict(X_test)\n",
        "print(\"Confusion Matrix:\")\n",
        "print(confusion_matrix(y_test, y_pred))"
      ]
    },
    {
      "cell_type": "markdown",
      "metadata": {
        "id": "0q-xhRU4ZQ70"
      },
      "source": [
        "- TN (True Negative) = 4,863: The model correctly predicted customers who did not default.\n",
        "- FP (False Positive) = 197: The model incorrectly predicted default, but in reality, the customer did not default.\n",
        "- FN (False Negative) = 946: The model incorrectly predicted no default, but in reality, the customer defaulted → very risky in finance.\n",
        "- TP (True Positive) = 476: The model correctly predicted customers who defaulted.\n",
        "\n",
        "Summary: The model tends to make \"safe\" predictions of no default, leading to a high number of missed cases where customers actually defaulted."
      ]
    },
    {
      "cell_type": "code",
      "execution_count": null,
      "metadata": {
        "colab": {
          "base_uri": "https://localhost:8080/"
        },
        "id": "z8APgyk2YAO9",
        "outputId": "c85f5dd0-bba2-4073-d734-892636e8c9f5"
      },
      "outputs": [
        {
          "name": "stdout",
          "output_type": "stream",
          "text": [
            "\n",
            "Classification Report:\n",
            "              precision    recall  f1-score   support\n",
            "\n",
            "           0       0.84      0.96      0.90      5060\n",
            "           1       0.72      0.33      0.46      1422\n",
            "\n",
            "    accuracy                           0.82      6482\n",
            "   macro avg       0.78      0.65      0.68      6482\n",
            "weighted avg       0.81      0.82      0.80      6482\n",
            "\n"
          ]
        }
      ],
      "source": [
        "# Compare actual values (y_test) with predicted values (y_pred)\n",
        "print(\"\\nClassification Report:\")\n",
        "print(classification_report(y_test, y_pred))"
      ]
    },
    {
      "cell_type": "markdown",
      "metadata": {
        "id": "r8N9PvWRV6Aw"
      },
      "source": [
        "**Class 0 (Non-default)**:\n",
        "- Precision = 0.84: Among all instances predicted as non-default, 84% were correct.\n",
        "- Recall = 0.96: Among all actual non-default customers, the model correctly identified 96%.\n",
        "- F1-score = 0.89: The harmonic mean of precision and recall indicates strong performance for the non-default class.\n",
        "→ The model performs well in predicting non-default cases.\n",
        "\n",
        "**Class 1 (Default)**:\n",
        "- Precision = 0.71: Among all instances predicted as default, only 71% were correct.\n",
        "- Recall = 0.33: Among all actual default customers, the model detected only 33%.\n",
        "- F1-score = 0.45: Overall performance for the default class is relatively poor.\n",
        "\n",
        "The recall for Class 1 is critically low, meaning the model misses a large proportion of high-risk customers. This is unacceptable in lending or risk management contexts.\n",
        "\n",
        "While the model achieves an overall accuracy of 82%, if the dataset is imbalanced (Class 0 significantly outnumbering Class 1), this metric can be misleading and give a false sense of performance."
      ]
    },
    {
      "cell_type": "markdown",
      "metadata": {
        "id": "afd4ed78"
      },
      "source": [
        "## **4.6. Model Results**\n",
        "Interpret the model coefficients to understand the magnitude and direction of each variable’s impact on the probability of default."
      ]
    },
    {
      "cell_type": "code",
      "execution_count": 50,
      "metadata": {
        "colab": {
          "base_uri": "https://localhost:8080/"
        },
        "id": "2fdf237f",
        "outputId": "ca2e7710-dd43-46d0-b4b6-a93ef533bca5"
      },
      "outputs": [
        {
          "name": "stdout",
          "output_type": "stream",
          "text": [
            "Model Coefficients:\n",
            "person_age                    -0.127513\n",
            "person_income                 -0.000037\n",
            "person_emp_length             -0.035528\n",
            "loan_amnt                      0.000106\n",
            "loan_int_rate                  0.214714\n",
            "loan_percent_income            0.003173\n",
            "cb_person_cred_hist_length     0.160717\n",
            "person_home_ownership_OTHER    0.000486\n",
            "person_home_ownership_OWN     -0.035283\n",
            "person_home_ownership_RENT     0.053369\n",
            "loan_intent_EDUCATION         -0.028160\n",
            "loan_intent_HOMEIMPROVEMENT    0.016391\n",
            "loan_intent_MEDICAL            0.009388\n",
            "loan_intent_PERSONAL          -0.010862\n",
            "loan_intent_VENTURE           -0.032425\n",
            "loan_grade_B                  -0.047803\n",
            "loan_grade_C                  -0.028197\n",
            "loan_grade_D                   0.067903\n",
            "loan_grade_E                   0.019905\n",
            "loan_grade_F                   0.005658\n",
            "loan_grade_G                   0.002755\n",
            "cb_person_default_on_file_Y    0.033061\n",
            "dtype: float64\n"
          ]
        }
      ],
      "source": [
        "# Hệ số của các biến ảnh hưởng đến khả năng vỡ nợ\n",
        "coefficients = pd.Series(model.coef_[0], index=X_train.columns)\n",
        "print(\"Model Coefficients:\")\n",
        "print(coefficients)"
      ]
    },
    {
      "cell_type": "markdown",
      "metadata": {
        "id": "bbf33a90"
      },
      "source": [
        "### **4.6.1. Personal Characteristics**\n",
        "- person_age (coefficient = -0.128091)\n",
        "\n",
        "→ Higher age is associated with a lower probability of default. This finding is reasonable, as it may reflect greater financial maturity and more experience in debt management among older borrowers.\n",
        "- person_income (coefficient = -0.000037)\n",
        "\n",
        "→ Higher income slightly reduces default risk, although the effect size is minimal. This weak influence may suggest the need for variable scaling or transformation.\n",
        "- person_emp_length (coefficient = -0.036109)\n",
        "\n",
        "→ Longer employment tenure is linked to a reduced likelihood of default. This is consistent with the expectation that job stability supports steady income and stronger repayment capacity.\n"
      ]
    },
    {
      "cell_type": "markdown",
      "metadata": {
        "id": "gxQ62JFGdoIC"
      },
      "source": [
        "### **4.6.2. Loan Information**\n",
        "- loan_amnt (coefficient = 0.000106)\n",
        "\n",
        "→ Larger loan amounts are associated with a slightly higher probability of default. Although the coefficient is small, this aligns with financial logic: higher borrowing generally means greater financial burden.\n",
        "- loan_int_rate (coefficient = 0.216633)\n",
        "\n",
        "→ This is the most influential variable. Higher interest rates either signal higher borrower risk or impose greater repayment pressure, both of which increase the likelihood of default.\n",
        "- loan_percent_income (coefficient = 0.003187)\n",
        "\n",
        "→ A higher loan-to-income ratio is linked to increased default risk. This metric reflects the borrower’s debt-carrying capacity."
      ]
    },
    {
      "cell_type": "markdown",
      "metadata": {
        "id": "4KU3BraJd5zf"
      },
      "source": [
        "### **4.6.3. Housing Ownership (person_home_ownership)**\n",
        "Reference category (baseline): MORTGAGE — other categories (OTHER, RENT, OWN) are interpreted relative to MORTGAGE.\n",
        "- OTHER (coefficient = 0.000488)\n",
        "\n",
        "→ No meaningful impact (coefficient close to zero); can be considered negligible.\n",
        "- OWN (coefficient = -0.035299)\n",
        "\n",
        "→ Homeownership slightly reduces the risk of default, possibly due to having collateral or greater housing stability.\n",
        "- RENT (coefficient = 0.053485)\n",
        "\n",
        "→ Renters exhibit a higher risk of default, potentially due to having fewer assets for collateral and higher fixed living expenses."
      ]
    },
    {
      "cell_type": "markdown",
      "metadata": {
        "id": "blQTobfZe8bZ"
      },
      "source": [
        "### **4.6.4. Loan Purpose (loan_intent)**\n",
        "Reference category (baseline): DEBTCONSOLIDATION — other categories are interpreted relative to DEBTCONSOLIDATION.\n",
        "- EDUCATION (coefficient = -0.028151)\n",
        "\n",
        "→ Education loans tend to carry lower risk, reflecting long-term investment and often well-planned repayment strategies.\n",
        "- HOMEIMPROVEMENT (coefficient = 0.016398)\n",
        "\n",
        "→ Home improvement loans slightly increase default risk, though the effect is marginal.\n",
        "- MEDICAL (coefficient = 0.009404)\n",
        "\n",
        "→ Loans for medical expenses also show a slight increase in risk, possibly reflecting the impact of unexpected costs.\n",
        "- PERSONAL (coefficient = -0.010861)\n",
        "\n",
        "→ Contrary to intuition, personal loans have a small negative coefficient, suggesting borrowers in this category may repay better than expected.\n",
        "- VENTURE (coefficient = -0.032432)\n",
        "\n",
        "→ Startup or venture investment loans appear to have lower default risk in this dataset, though caution is warranted in interpretation as the sample size for this category may be limited."
      ]
    },
    {
      "cell_type": "markdown",
      "metadata": {
        "id": "QW2DK3VYfRzO"
      },
      "source": [
        "### **4.6.5. Credit Grade (loan_grade)**\n",
        "Reference category (baseline): Grade A.\n",
        "- B (coefficient = -0.047824), C (coefficient = -0.028148)\n",
        "\n",
        "→ Surprisingly, grades B and C have negative coefficients, suggesting lower default risk compared to grade A. This contradicts typical credit logic and may be due to data noise or unobserved interactions.\n",
        "- D (coefficient = 0.068004), E (coefficient = 0.019940), F (coefficient = 0.005667), G (coefficient = 0.002758)\n",
        "\n",
        "→ Lower credit grades generally show positive coefficients, indicating higher risk, which aligns with expectations. Grade D, in particular, exhibits the highest risk after grade A."
      ]
    },
    {
      "cell_type": "markdown",
      "metadata": {
        "id": "rDXv3AQLfvSm"
      },
      "source": [
        "### **4.6.6. Credit History and Behavior**\n",
        "- cb_person_cred_hist_length (coefficient = 0.159607)\n",
        "\n",
        "→ A longer credit history is unexpectedly associated with a higher probability of default. This contradicts conventional expectations and suggests the variable might be affected by noise, age, or interaction effects with other variables.\n",
        "- cb_person_default_on_file_Y (coefficient = 0.033161)\n",
        "\n",
        "→ Customers with a prior default history clearly exhibit a higher likelihood of default, which is entirely consistent with financial logic."
      ]
    },
    {
      "cell_type": "markdown",
      "metadata": {
        "id": "ryvfgITXgOCP"
      },
      "source": [
        "# **Chapter 5: Conclusion**"
      ]
    },
    {
      "cell_type": "markdown",
      "metadata": {
        "id": "3esYk06jgryj"
      },
      "source": [
        "## **5.1. General Conclusion**\n",
        "\n",
        "Through initial data analysis and visualization, we examined the distribution of demographic characteristics, financial conditions, and loan information within the dataset. Notably, the correlation matrix revealed that the loan-to-income ratio (loan_percent_income), loan interest rate (loan_int_rate), and annual income (person_income) exhibit the most significant linear relationships with default likelihood.\n",
        "\n",
        "The Logistic Regression model provided a quantitative assessment of the influence of each variable. Coefficient analysis reinforced the correlation findings, confirming that loan_int_rate and loan_percent_income substantially increase default risk, whereas person_income and person_age tend to reduce it. Other features such as home ownership status (person_home_ownership) and credit grade (loan_grade) also demonstrated meaningful differences in risk profiles across categories.\n",
        "\n",
        "However, the evaluation results — based on the Confusion Matrix and Classification Report — highlight a critical challenge: the current model underperforms in detecting actual default cases (Recall for class 1 is only 33%). While the overall accuracy reaches 82%, the high rate of missed bad loans (False Negatives) poses a serious risk in real-world credit management applications."
      ]
    },
    {
      "cell_type": "markdown",
      "metadata": {
        "id": "Yh8wVKDWgzWr"
      },
      "source": [
        "## **5.2. Contributions and Limitations**\n",
        "\n",
        "- Contributions: The project has identified the key factors influencing default risk and developed a baseline model for prediction. The coefficient analysis offers valuable insights into the underlying drivers of loan default, which can serve as a reference for credit risk assessment and lending policy formulation.\n",
        "- Limitations: The predictive performance for the default class (minority class) remains low. The imbalance between the two target classes is likely a major contributing factor. Additionally, certain coefficient results (e.g., cb_person_cred_hist_length) warrant further investigation to clarify potential data noise, feature interactions, or unexpected correlations."
      ]
    },
    {
      "cell_type": "markdown",
      "metadata": {
        "id": "VU_M1PXmg18k"
      },
      "source": [
        "## **5.3. Future Directions**\n",
        "\n",
        "To enhance the practical applicability and the model’s ability to detect high-risk loans, future work may focus on the following areas:\n",
        "1. Addressing Class Imbalance\n",
        "- Implement techniques such as SMOTE (Synthetic Minority Oversampling), Random Undersampling, or hybrid approaches to improve the model’s learning capability for the minority class.\n",
        "- Consider algorithms inherently robust to imbalanced data, such as XGBoost with the scale_pos_weight parameter.\n",
        "\n",
        "2. Feature Engineering\n",
        "- Create additional derived features that capture repayment capacity, credit behavior, and overall financial health.\n",
        "- Perform feature selection to retain only the most predictive variables and reduce noise.\n",
        "\n",
        "3. Exploring Alternative or Advanced Models\n",
        "- Experiment with classification algorithms such as Decision Trees, Random Forests, Gradient Boosting, or LightGBM/XGBoost.\n",
        "- Evaluate model performance using multiple metrics (Precision, Recall, F1-score, AUC) to select the optimal approach.\n",
        "\n",
        "4. Adjusting the Classification Threshold\n",
        "- Modify the probability cutoff to prioritize reducing False Negatives (missed defaults), even at the cost of increasing False Positives.\n",
        "- Utilize Precision-Recall and ROC curves to determine the most appropriate threshold."
      ]
    }
  ],
  "metadata": {
    "colab": {
      "provenance": [],
      "toc_visible": true
    },
    "kernelspec": {
      "display_name": "Python 3",
      "name": "python3"
    },
    "language_info": {
      "codemirror_mode": {
        "name": "ipython",
        "version": 3
      },
      "file_extension": ".py",
      "mimetype": "text/x-python",
      "name": "python",
      "nbconvert_exporter": "python",
      "pygments_lexer": "ipython3",
      "version": "3.11.9"
    }
  },
  "nbformat": 4,
  "nbformat_minor": 0
}
